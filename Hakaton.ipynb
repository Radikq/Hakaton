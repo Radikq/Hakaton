{
 "cells": [
  {
   "cell_type": "code",
   "execution_count": 2,
   "metadata": {
    "collapsed": true,
    "ExecuteTime": {
     "end_time": "2023-11-06T12:45:44.310041500Z",
     "start_time": "2023-11-06T12:45:44.275019600Z"
    }
   },
   "outputs": [],
   "source": [
    "import math\n",
    "import pandas as pd"
   ]
  },
  {
   "cell_type": "code",
   "execution_count": 3,
   "outputs": [],
   "source": [
    "points = pd.read_excel('DataSet.xlsx', sheet_name='Входные данные для анализа', usecols=range(7))"
   ],
   "metadata": {
    "collapsed": false,
    "ExecuteTime": {
     "end_time": "2023-11-06T12:45:44.667231900Z",
     "start_time": "2023-11-06T12:45:44.286022700Z"
    }
   }
  },
  {
   "cell_type": "code",
   "execution_count": 4,
   "outputs": [
    {
     "data": {
      "text/plain": "   № точки                         Адрес точки, г. Краснодар  \\\n0        1                        ул. Ставропольская, д. 140   \n1        2                  ул. им. Максима Горького, д. 128   \n2        3                      ул. им. Дзержинского, д. 100   \n3        4                       ул. Красноармейская, д. 126   \n4        5                                х. Ленина, п/о. 37   \n5        6  тер. Пашковский жилой массив, ул. Крылатая, д. 2   \n6        7               ул. Восточно-Кругликовская, д. 64/2   \n7        8                      ул. Красных Партизан, д. 439   \n8        9                 ул. Таманская, д. 153 к. 3, кв. 2   \n9       10                      ул. им. Дзержинского, д. 165   \n\n  Когда подключена точка? Карты и материалы доставлены?  \\\n0                   вчера                           нет   \n1                   давно                            да   \n2                   давно                            да   \n3                   давно                            да   \n4                   давно                           нет   \n5                   давно                            да   \n6                   давно                            да   \n7                   давно                            да   \n8                   давно                            да   \n9                   давно                            да   \n\n   Кол-во дней после выдачи последней карты  Кол-во одобренных заявок  \\\n0                                       0.0                       0.0   \n1                                       3.0                      15.0   \n2                                       3.0                       9.0   \n3                                       0.0                      38.0   \n4                                       0.0                      14.0   \n5                                      12.0                      19.0   \n6                                      27.0                      19.0   \n7                                      33.0                      84.0   \n8                                       2.0                      15.0   \n9                                       0.0                      19.0   \n\n   Кол-во выданных карт  \n0                   0.0  \n1                   3.0  \n2                   1.0  \n3                  23.0  \n4                   0.0  \n5                   1.0  \n6                  12.0  \n7                  63.0  \n8                   1.0  \n9                   0.0  ",
      "text/html": "<div>\n<style scoped>\n    .dataframe tbody tr th:only-of-type {\n        vertical-align: middle;\n    }\n\n    .dataframe tbody tr th {\n        vertical-align: top;\n    }\n\n    .dataframe thead th {\n        text-align: right;\n    }\n</style>\n<table border=\"1\" class=\"dataframe\">\n  <thead>\n    <tr style=\"text-align: right;\">\n      <th></th>\n      <th>№ точки</th>\n      <th>Адрес точки, г. Краснодар</th>\n      <th>Когда подключена точка?</th>\n      <th>Карты и материалы доставлены?</th>\n      <th>Кол-во дней после выдачи последней карты</th>\n      <th>Кол-во одобренных заявок</th>\n      <th>Кол-во выданных карт</th>\n    </tr>\n  </thead>\n  <tbody>\n    <tr>\n      <th>0</th>\n      <td>1</td>\n      <td>ул. Ставропольская, д. 140</td>\n      <td>вчера</td>\n      <td>нет</td>\n      <td>0.0</td>\n      <td>0.0</td>\n      <td>0.0</td>\n    </tr>\n    <tr>\n      <th>1</th>\n      <td>2</td>\n      <td>ул. им. Максима Горького, д. 128</td>\n      <td>давно</td>\n      <td>да</td>\n      <td>3.0</td>\n      <td>15.0</td>\n      <td>3.0</td>\n    </tr>\n    <tr>\n      <th>2</th>\n      <td>3</td>\n      <td>ул. им. Дзержинского, д. 100</td>\n      <td>давно</td>\n      <td>да</td>\n      <td>3.0</td>\n      <td>9.0</td>\n      <td>1.0</td>\n    </tr>\n    <tr>\n      <th>3</th>\n      <td>4</td>\n      <td>ул. Красноармейская, д. 126</td>\n      <td>давно</td>\n      <td>да</td>\n      <td>0.0</td>\n      <td>38.0</td>\n      <td>23.0</td>\n    </tr>\n    <tr>\n      <th>4</th>\n      <td>5</td>\n      <td>х. Ленина, п/о. 37</td>\n      <td>давно</td>\n      <td>нет</td>\n      <td>0.0</td>\n      <td>14.0</td>\n      <td>0.0</td>\n    </tr>\n    <tr>\n      <th>5</th>\n      <td>6</td>\n      <td>тер. Пашковский жилой массив, ул. Крылатая, д. 2</td>\n      <td>давно</td>\n      <td>да</td>\n      <td>12.0</td>\n      <td>19.0</td>\n      <td>1.0</td>\n    </tr>\n    <tr>\n      <th>6</th>\n      <td>7</td>\n      <td>ул. Восточно-Кругликовская, д. 64/2</td>\n      <td>давно</td>\n      <td>да</td>\n      <td>27.0</td>\n      <td>19.0</td>\n      <td>12.0</td>\n    </tr>\n    <tr>\n      <th>7</th>\n      <td>8</td>\n      <td>ул. Красных Партизан, д. 439</td>\n      <td>давно</td>\n      <td>да</td>\n      <td>33.0</td>\n      <td>84.0</td>\n      <td>63.0</td>\n    </tr>\n    <tr>\n      <th>8</th>\n      <td>9</td>\n      <td>ул. Таманская, д. 153 к. 3, кв. 2</td>\n      <td>давно</td>\n      <td>да</td>\n      <td>2.0</td>\n      <td>15.0</td>\n      <td>1.0</td>\n    </tr>\n    <tr>\n      <th>9</th>\n      <td>10</td>\n      <td>ул. им. Дзержинского, д. 165</td>\n      <td>давно</td>\n      <td>да</td>\n      <td>0.0</td>\n      <td>19.0</td>\n      <td>0.0</td>\n    </tr>\n  </tbody>\n</table>\n</div>"
     },
     "execution_count": 4,
     "metadata": {},
     "output_type": "execute_result"
    }
   ],
   "source": [
    "points.head(10)"
   ],
   "metadata": {
    "collapsed": false,
    "ExecuteTime": {
     "end_time": "2023-11-06T12:45:44.715240400Z",
     "start_time": "2023-11-06T12:45:44.668230300Z"
    }
   }
  },
  {
   "cell_type": "code",
   "execution_count": 5,
   "outputs": [],
   "source": [
    "points.dropna(inplace=True)"
   ],
   "metadata": {
    "collapsed": false,
    "ExecuteTime": {
     "end_time": "2023-11-06T12:45:44.758249700Z",
     "start_time": "2023-11-06T12:45:44.700235500Z"
    }
   }
  },
  {
   "cell_type": "markdown",
   "source": [
    "**Задача 1**: Выезд на точку для стимулирования выдач | Высокий | 4 часа\n",
    "**Задача 2**: Обучение агента\t| Средний | 2 часа\n",
    "**Задача 3**: Доставка карт и материалов | Низкий | 1,5 часа\n"
   ],
   "metadata": {
    "collapsed": false
   }
  },
  {
   "cell_type": "code",
   "execution_count": 6,
   "outputs": [],
   "source": [
    "def set_task(point):\n",
    "    if point[\"Когда подключена точка?\"] == \"вчера\" or point[\"Карты и материалы доставлены?\"] == \"нет\":\n",
    "        return 3\n",
    "    elif point['Кол-во выданных карт'] / point['Кол-во одобренных заявок'] <= 0.5:\n",
    "        return 2\n",
    "    elif (point[\"Кол-во дней после выдачи последней карты\"] >= 7 and point['Кол-во одобренных заявок'] >= 1) or point[\"Кол-во дней после выдачи последней карты\"] >= 14:\n",
    "        return 1\n",
    "    else:\n",
    "        return 0"
   ],
   "metadata": {
    "collapsed": false,
    "ExecuteTime": {
     "end_time": "2023-11-06T12:45:44.809262800Z",
     "start_time": "2023-11-06T12:45:44.721241100Z"
    }
   }
  },
  {
   "cell_type": "code",
   "execution_count": 7,
   "outputs": [],
   "source": [
    "points[\"№ Задачи\"] = points.apply(set_task, axis=1)"
   ],
   "metadata": {
    "collapsed": false,
    "ExecuteTime": {
     "end_time": "2023-11-06T12:45:44.845268400Z",
     "start_time": "2023-11-06T12:45:44.730244700Z"
    }
   }
  },
  {
   "cell_type": "code",
   "execution_count": 22,
   "outputs": [],
   "source": [
    "points.sort_values(by=['№ Задачи', 'Адрес точки, г. Краснодар'], inplace=True)"
   ],
   "metadata": {
    "collapsed": false,
    "ExecuteTime": {
     "end_time": "2023-11-06T12:46:33.523881700Z",
     "start_time": "2023-11-06T12:46:33.495883800Z"
    }
   }
  },
  {
   "cell_type": "code",
   "execution_count": 25,
   "outputs": [
    {
     "data": {
      "text/plain": "    № точки                          Адрес точки, г. Краснодар  \\\n3         4                        ул. Красноармейская, д. 126   \n26       27                            ул. Уральская, д. 166/3   \n10       11         ст-ца. Елизаветинская, ул. Широкая, д. 260   \n6         7                ул. Восточно-Кругликовская, д. 64/2   \n29       30                             ул. Коммунаров, д. 258   \n36       37                                ул. Красная, д. 149   \n33       34                                ул. Красная, д. 176   \n7         8                       ул. Красных Партизан, д. 439   \n34       35                             ул. Уральская, д. 79/1   \n5         6   тер. Пашковский жилой массив, ул. Крылатая, д. 2   \n18       19                                ул. Зиповская, д. 1   \n41       42                                ул. Красная, д. 145   \n39       40                             ул. Российская, д. 418   \n35       36                               ул. Северная, д. 326   \n31       32                               ул. Северная, д. 326   \n25       26                               ул. Северная, д. 389   \n27       28                               ул. Северная, д. 524   \n8         9                  ул. Таманская, д. 153 к. 3, кв. 2   \n12       13                              ул. Уральская, д. 162   \n19       20                   ул. им. 40-летия Победы, д. 20/1   \n40       41                  ул. им. Володи Головатого, д. 313   \n21       22                 ул. им. Героя Аверкиева А.А., д. 8   \n22       23  ул. им. Героя Аверкиева А.А., д. 8/1 к. мая, к...   \n30       31                       ул. им. Дзержинского, д. 100   \n2         3                       ул. им. Дзержинского, д. 100   \n9        10                       ул. им. Дзержинского, д. 165   \n28       29               ул. им. Кирилла Россинского, д. 61/1   \n1         2                   ул. им. Максима Горького, д. 128   \n14       15                        ул. им. Селезнева, д. 197/5   \n23       24                          ул. им. Тургенева, д. 106   \n37       38           п. Березовый, ул. Целиноградская, д. 6/1   \n42       43                                ул. Красная, д. 154   \n24       25                       ул. Красных Партизан, д. 117   \n0         1                         ул. Ставропольская, д. 140   \n15       16                              ул. Уральская, д. 117   \n13       14                             ул. Уральская, д. 79/1   \n32       33                     ул. им. 40-летия Победы, д. 34   \n20       21                          ул. им. Атарбекова, д. 24   \n38       39                       ул. им. Дзержинского, д. 100   \n11       12                  ул. им. Тургенева, д. 174, 1 этаж   \n4         5                                 х. Ленина, п/о. 37   \n\n   Когда подключена точка? Карты и материалы доставлены?  \\\n3                    давно                            да   \n26                   давно                            да   \n10                   давно                            да   \n6                    давно                            да   \n29                   давно                            да   \n36                   давно                            да   \n33                   давно                            да   \n7                    давно                            да   \n34                   давно                            да   \n5                    давно                            да   \n18                   давно                            да   \n41                   давно                            да   \n39                   давно                            да   \n35                   давно                            да   \n31                   давно                            да   \n25                   давно                            да   \n27                   давно                            да   \n8                    давно                            да   \n12                   давно                            да   \n19                   давно                            да   \n40                   давно                            да   \n21                   давно                            да   \n22                   давно                            да   \n30                   давно                            да   \n2                    давно                            да   \n9                    давно                            да   \n28                   давно                            да   \n1                    давно                            да   \n14                   давно                            да   \n23                   давно                            да   \n37                   вчера                           нет   \n42                   вчера                           нет   \n24                   вчера                           нет   \n0                    вчера                           нет   \n15                   вчера                           нет   \n13                   вчера                           нет   \n32                   вчера                           нет   \n20                   вчера                           нет   \n38                   вчера                           нет   \n11                   вчера                           нет   \n4                    давно                           нет   \n\n    Кол-во дней после выдачи последней карты  Кол-во одобренных заявок  \\\n3                                        0.0                      38.0   \n26                                       3.0                      43.0   \n10                                      15.0                      29.0   \n6                                       27.0                      19.0   \n29                                      16.0                      45.0   \n36                                       9.0                      10.0   \n33                                      76.0                      82.0   \n7                                       33.0                      84.0   \n34                                      23.0                      32.0   \n5                                       12.0                      19.0   \n18                                       6.0                      32.0   \n41                                       3.0                      20.0   \n39                                       6.0                      30.0   \n35                                       4.0                      19.0   \n31                                       3.0                      20.0   \n25                                       0.0                      16.0   \n27                                       3.0                      13.0   \n8                                        2.0                      15.0   \n12                                       4.0                      21.0   \n19                                       4.0                      35.0   \n40                                       6.0                      65.0   \n21                                       6.0                      18.0   \n22                                       0.0                      15.0   \n30                                       1.0                      19.0   \n2                                        3.0                       9.0   \n9                                        0.0                      19.0   \n28                                       6.0                      19.0   \n1                                        3.0                      15.0   \n14                                       7.0                      14.0   \n23                                       2.0                      96.0   \n37                                       0.0                      13.0   \n42                                       0.0                       0.0   \n24                                       0.0                       0.0   \n0                                        0.0                       0.0   \n15                                       0.0                       0.0   \n13                                       0.0                       5.0   \n32                                       0.0                      19.0   \n20                                       0.0                       6.0   \n38                                       0.0                      10.0   \n11                                       0.0                       0.0   \n4                                        0.0                      14.0   \n\n    Кол-во выданных карт  № Задачи  \n3                   23.0         0  \n26                  29.0         0  \n10                  15.0         1  \n6                   12.0         1  \n29                  30.0         1  \n36                   7.0         1  \n33                  72.0         1  \n7                   63.0         1  \n34                  21.0         1  \n5                    1.0         2  \n18                   9.0         2  \n41                   4.0         2  \n39                  14.0         2  \n35                   4.0         2  \n31                   9.0         2  \n25                   0.0         2  \n27                   4.0         2  \n8                    1.0         2  \n12                   5.0         2  \n19                  15.0         2  \n40                  12.0         2  \n21                   6.0         2  \n22                   5.0         2  \n30                   4.0         2  \n2                    1.0         2  \n9                    0.0         2  \n28                   5.0         2  \n1                    3.0         2  \n14                   3.0         2  \n23                  20.0         2  \n37                   0.0         3  \n42                   0.0         3  \n24                   0.0         3  \n0                    0.0         3  \n15                   0.0         3  \n13                   0.0         3  \n32                   0.0         3  \n20                   0.0         3  \n38                   0.0         3  \n11                   0.0         3  \n4                    0.0         3  ",
      "text/html": "<div>\n<style scoped>\n    .dataframe tbody tr th:only-of-type {\n        vertical-align: middle;\n    }\n\n    .dataframe tbody tr th {\n        vertical-align: top;\n    }\n\n    .dataframe thead th {\n        text-align: right;\n    }\n</style>\n<table border=\"1\" class=\"dataframe\">\n  <thead>\n    <tr style=\"text-align: right;\">\n      <th></th>\n      <th>№ точки</th>\n      <th>Адрес точки, г. Краснодар</th>\n      <th>Когда подключена точка?</th>\n      <th>Карты и материалы доставлены?</th>\n      <th>Кол-во дней после выдачи последней карты</th>\n      <th>Кол-во одобренных заявок</th>\n      <th>Кол-во выданных карт</th>\n      <th>№ Задачи</th>\n    </tr>\n  </thead>\n  <tbody>\n    <tr>\n      <th>3</th>\n      <td>4</td>\n      <td>ул. Красноармейская, д. 126</td>\n      <td>давно</td>\n      <td>да</td>\n      <td>0.0</td>\n      <td>38.0</td>\n      <td>23.0</td>\n      <td>0</td>\n    </tr>\n    <tr>\n      <th>26</th>\n      <td>27</td>\n      <td>ул. Уральская, д. 166/3</td>\n      <td>давно</td>\n      <td>да</td>\n      <td>3.0</td>\n      <td>43.0</td>\n      <td>29.0</td>\n      <td>0</td>\n    </tr>\n    <tr>\n      <th>10</th>\n      <td>11</td>\n      <td>ст-ца. Елизаветинская, ул. Широкая, д. 260</td>\n      <td>давно</td>\n      <td>да</td>\n      <td>15.0</td>\n      <td>29.0</td>\n      <td>15.0</td>\n      <td>1</td>\n    </tr>\n    <tr>\n      <th>6</th>\n      <td>7</td>\n      <td>ул. Восточно-Кругликовская, д. 64/2</td>\n      <td>давно</td>\n      <td>да</td>\n      <td>27.0</td>\n      <td>19.0</td>\n      <td>12.0</td>\n      <td>1</td>\n    </tr>\n    <tr>\n      <th>29</th>\n      <td>30</td>\n      <td>ул. Коммунаров, д. 258</td>\n      <td>давно</td>\n      <td>да</td>\n      <td>16.0</td>\n      <td>45.0</td>\n      <td>30.0</td>\n      <td>1</td>\n    </tr>\n    <tr>\n      <th>36</th>\n      <td>37</td>\n      <td>ул. Красная, д. 149</td>\n      <td>давно</td>\n      <td>да</td>\n      <td>9.0</td>\n      <td>10.0</td>\n      <td>7.0</td>\n      <td>1</td>\n    </tr>\n    <tr>\n      <th>33</th>\n      <td>34</td>\n      <td>ул. Красная, д. 176</td>\n      <td>давно</td>\n      <td>да</td>\n      <td>76.0</td>\n      <td>82.0</td>\n      <td>72.0</td>\n      <td>1</td>\n    </tr>\n    <tr>\n      <th>7</th>\n      <td>8</td>\n      <td>ул. Красных Партизан, д. 439</td>\n      <td>давно</td>\n      <td>да</td>\n      <td>33.0</td>\n      <td>84.0</td>\n      <td>63.0</td>\n      <td>1</td>\n    </tr>\n    <tr>\n      <th>34</th>\n      <td>35</td>\n      <td>ул. Уральская, д. 79/1</td>\n      <td>давно</td>\n      <td>да</td>\n      <td>23.0</td>\n      <td>32.0</td>\n      <td>21.0</td>\n      <td>1</td>\n    </tr>\n    <tr>\n      <th>5</th>\n      <td>6</td>\n      <td>тер. Пашковский жилой массив, ул. Крылатая, д. 2</td>\n      <td>давно</td>\n      <td>да</td>\n      <td>12.0</td>\n      <td>19.0</td>\n      <td>1.0</td>\n      <td>2</td>\n    </tr>\n    <tr>\n      <th>18</th>\n      <td>19</td>\n      <td>ул. Зиповская, д. 1</td>\n      <td>давно</td>\n      <td>да</td>\n      <td>6.0</td>\n      <td>32.0</td>\n      <td>9.0</td>\n      <td>2</td>\n    </tr>\n    <tr>\n      <th>41</th>\n      <td>42</td>\n      <td>ул. Красная, д. 145</td>\n      <td>давно</td>\n      <td>да</td>\n      <td>3.0</td>\n      <td>20.0</td>\n      <td>4.0</td>\n      <td>2</td>\n    </tr>\n    <tr>\n      <th>39</th>\n      <td>40</td>\n      <td>ул. Российская, д. 418</td>\n      <td>давно</td>\n      <td>да</td>\n      <td>6.0</td>\n      <td>30.0</td>\n      <td>14.0</td>\n      <td>2</td>\n    </tr>\n    <tr>\n      <th>35</th>\n      <td>36</td>\n      <td>ул. Северная, д. 326</td>\n      <td>давно</td>\n      <td>да</td>\n      <td>4.0</td>\n      <td>19.0</td>\n      <td>4.0</td>\n      <td>2</td>\n    </tr>\n    <tr>\n      <th>31</th>\n      <td>32</td>\n      <td>ул. Северная, д. 326</td>\n      <td>давно</td>\n      <td>да</td>\n      <td>3.0</td>\n      <td>20.0</td>\n      <td>9.0</td>\n      <td>2</td>\n    </tr>\n    <tr>\n      <th>25</th>\n      <td>26</td>\n      <td>ул. Северная, д. 389</td>\n      <td>давно</td>\n      <td>да</td>\n      <td>0.0</td>\n      <td>16.0</td>\n      <td>0.0</td>\n      <td>2</td>\n    </tr>\n    <tr>\n      <th>27</th>\n      <td>28</td>\n      <td>ул. Северная, д. 524</td>\n      <td>давно</td>\n      <td>да</td>\n      <td>3.0</td>\n      <td>13.0</td>\n      <td>4.0</td>\n      <td>2</td>\n    </tr>\n    <tr>\n      <th>8</th>\n      <td>9</td>\n      <td>ул. Таманская, д. 153 к. 3, кв. 2</td>\n      <td>давно</td>\n      <td>да</td>\n      <td>2.0</td>\n      <td>15.0</td>\n      <td>1.0</td>\n      <td>2</td>\n    </tr>\n    <tr>\n      <th>12</th>\n      <td>13</td>\n      <td>ул. Уральская, д. 162</td>\n      <td>давно</td>\n      <td>да</td>\n      <td>4.0</td>\n      <td>21.0</td>\n      <td>5.0</td>\n      <td>2</td>\n    </tr>\n    <tr>\n      <th>19</th>\n      <td>20</td>\n      <td>ул. им. 40-летия Победы, д. 20/1</td>\n      <td>давно</td>\n      <td>да</td>\n      <td>4.0</td>\n      <td>35.0</td>\n      <td>15.0</td>\n      <td>2</td>\n    </tr>\n    <tr>\n      <th>40</th>\n      <td>41</td>\n      <td>ул. им. Володи Головатого, д. 313</td>\n      <td>давно</td>\n      <td>да</td>\n      <td>6.0</td>\n      <td>65.0</td>\n      <td>12.0</td>\n      <td>2</td>\n    </tr>\n    <tr>\n      <th>21</th>\n      <td>22</td>\n      <td>ул. им. Героя Аверкиева А.А., д. 8</td>\n      <td>давно</td>\n      <td>да</td>\n      <td>6.0</td>\n      <td>18.0</td>\n      <td>6.0</td>\n      <td>2</td>\n    </tr>\n    <tr>\n      <th>22</th>\n      <td>23</td>\n      <td>ул. им. Героя Аверкиева А.А., д. 8/1 к. мая, к...</td>\n      <td>давно</td>\n      <td>да</td>\n      <td>0.0</td>\n      <td>15.0</td>\n      <td>5.0</td>\n      <td>2</td>\n    </tr>\n    <tr>\n      <th>30</th>\n      <td>31</td>\n      <td>ул. им. Дзержинского, д. 100</td>\n      <td>давно</td>\n      <td>да</td>\n      <td>1.0</td>\n      <td>19.0</td>\n      <td>4.0</td>\n      <td>2</td>\n    </tr>\n    <tr>\n      <th>2</th>\n      <td>3</td>\n      <td>ул. им. Дзержинского, д. 100</td>\n      <td>давно</td>\n      <td>да</td>\n      <td>3.0</td>\n      <td>9.0</td>\n      <td>1.0</td>\n      <td>2</td>\n    </tr>\n    <tr>\n      <th>9</th>\n      <td>10</td>\n      <td>ул. им. Дзержинского, д. 165</td>\n      <td>давно</td>\n      <td>да</td>\n      <td>0.0</td>\n      <td>19.0</td>\n      <td>0.0</td>\n      <td>2</td>\n    </tr>\n    <tr>\n      <th>28</th>\n      <td>29</td>\n      <td>ул. им. Кирилла Россинского, д. 61/1</td>\n      <td>давно</td>\n      <td>да</td>\n      <td>6.0</td>\n      <td>19.0</td>\n      <td>5.0</td>\n      <td>2</td>\n    </tr>\n    <tr>\n      <th>1</th>\n      <td>2</td>\n      <td>ул. им. Максима Горького, д. 128</td>\n      <td>давно</td>\n      <td>да</td>\n      <td>3.0</td>\n      <td>15.0</td>\n      <td>3.0</td>\n      <td>2</td>\n    </tr>\n    <tr>\n      <th>14</th>\n      <td>15</td>\n      <td>ул. им. Селезнева, д. 197/5</td>\n      <td>давно</td>\n      <td>да</td>\n      <td>7.0</td>\n      <td>14.0</td>\n      <td>3.0</td>\n      <td>2</td>\n    </tr>\n    <tr>\n      <th>23</th>\n      <td>24</td>\n      <td>ул. им. Тургенева, д. 106</td>\n      <td>давно</td>\n      <td>да</td>\n      <td>2.0</td>\n      <td>96.0</td>\n      <td>20.0</td>\n      <td>2</td>\n    </tr>\n    <tr>\n      <th>37</th>\n      <td>38</td>\n      <td>п. Березовый, ул. Целиноградская, д. 6/1</td>\n      <td>вчера</td>\n      <td>нет</td>\n      <td>0.0</td>\n      <td>13.0</td>\n      <td>0.0</td>\n      <td>3</td>\n    </tr>\n    <tr>\n      <th>42</th>\n      <td>43</td>\n      <td>ул. Красная, д. 154</td>\n      <td>вчера</td>\n      <td>нет</td>\n      <td>0.0</td>\n      <td>0.0</td>\n      <td>0.0</td>\n      <td>3</td>\n    </tr>\n    <tr>\n      <th>24</th>\n      <td>25</td>\n      <td>ул. Красных Партизан, д. 117</td>\n      <td>вчера</td>\n      <td>нет</td>\n      <td>0.0</td>\n      <td>0.0</td>\n      <td>0.0</td>\n      <td>3</td>\n    </tr>\n    <tr>\n      <th>0</th>\n      <td>1</td>\n      <td>ул. Ставропольская, д. 140</td>\n      <td>вчера</td>\n      <td>нет</td>\n      <td>0.0</td>\n      <td>0.0</td>\n      <td>0.0</td>\n      <td>3</td>\n    </tr>\n    <tr>\n      <th>15</th>\n      <td>16</td>\n      <td>ул. Уральская, д. 117</td>\n      <td>вчера</td>\n      <td>нет</td>\n      <td>0.0</td>\n      <td>0.0</td>\n      <td>0.0</td>\n      <td>3</td>\n    </tr>\n    <tr>\n      <th>13</th>\n      <td>14</td>\n      <td>ул. Уральская, д. 79/1</td>\n      <td>вчера</td>\n      <td>нет</td>\n      <td>0.0</td>\n      <td>5.0</td>\n      <td>0.0</td>\n      <td>3</td>\n    </tr>\n    <tr>\n      <th>32</th>\n      <td>33</td>\n      <td>ул. им. 40-летия Победы, д. 34</td>\n      <td>вчера</td>\n      <td>нет</td>\n      <td>0.0</td>\n      <td>19.0</td>\n      <td>0.0</td>\n      <td>3</td>\n    </tr>\n    <tr>\n      <th>20</th>\n      <td>21</td>\n      <td>ул. им. Атарбекова, д. 24</td>\n      <td>вчера</td>\n      <td>нет</td>\n      <td>0.0</td>\n      <td>6.0</td>\n      <td>0.0</td>\n      <td>3</td>\n    </tr>\n    <tr>\n      <th>38</th>\n      <td>39</td>\n      <td>ул. им. Дзержинского, д. 100</td>\n      <td>вчера</td>\n      <td>нет</td>\n      <td>0.0</td>\n      <td>10.0</td>\n      <td>0.0</td>\n      <td>3</td>\n    </tr>\n    <tr>\n      <th>11</th>\n      <td>12</td>\n      <td>ул. им. Тургенева, д. 174, 1 этаж</td>\n      <td>вчера</td>\n      <td>нет</td>\n      <td>0.0</td>\n      <td>0.0</td>\n      <td>0.0</td>\n      <td>3</td>\n    </tr>\n    <tr>\n      <th>4</th>\n      <td>5</td>\n      <td>х. Ленина, п/о. 37</td>\n      <td>давно</td>\n      <td>нет</td>\n      <td>0.0</td>\n      <td>14.0</td>\n      <td>0.0</td>\n      <td>3</td>\n    </tr>\n  </tbody>\n</table>\n</div>"
     },
     "execution_count": 25,
     "metadata": {},
     "output_type": "execute_result"
    }
   ],
   "source": [
    "points"
   ],
   "metadata": {
    "collapsed": false,
    "ExecuteTime": {
     "end_time": "2023-11-06T12:47:03.397886400Z",
     "start_time": "2023-11-06T12:47:03.371882600Z"
    }
   }
  },
  {
   "cell_type": "code",
   "execution_count": 10,
   "outputs": [
    {
     "data": {
      "text/plain": "2    21\n3    11\n1     7\n0     2\nName: № Задачи, dtype: int64"
     },
     "execution_count": 10,
     "metadata": {},
     "output_type": "execute_result"
    }
   ],
   "source": [
    "points[\"№ Задачи\"].value_counts()"
   ],
   "metadata": {
    "collapsed": false,
    "ExecuteTime": {
     "end_time": "2023-11-06T12:45:44.849269800Z",
     "start_time": "2023-11-06T12:45:44.800259600Z"
    }
   }
  },
  {
   "cell_type": "code",
   "execution_count": 11,
   "outputs": [],
   "source": [
    "# from geopy.geocoders import Nominatim\n",
    "import requests\n",
    "from yandex_geocoder import Client\n",
    "\n",
    "\n",
    "client = Client(\"22900526-289d-40ca-8382-6c3a2282e733\")\n",
    "token = '5b3ce3597851110001cf6248c6536c473ace4987b80c93db6693db1c'\n",
    "\n",
    "def matrix(address: list[str, str], profile=0):\n",
    "    coord_1 = client.coordinates(address[0])\n",
    "    coord_2 = client.coordinates(address[1])\n",
    "\n",
    "    locations = [[float(coord_1[1]), float(coord_1[0])], [float(coord_2[1]), float(coord_2[0])]]\n",
    "\n",
    "    headers = {\n",
    "        'Content-Type': 'application/json; charset=utf-8',\n",
    "        'Accept': 'application/json',\n",
    "        'Authorization': token\n",
    "    }\n",
    "    profile_dict = {\n",
    "        0: 'driving-car',\n",
    "        1: 'foot-walking'\n",
    "    }\n",
    "    data = {\"locations\":[i[::-1] for i in locations],\"metrics\":[\"distance\",\"duration\"],\"units\":\"m\"}\n",
    "    res = requests.post(f'https://api.openrouteservice.org/v2/matrix/{profile_dict[profile]}',\n",
    "                        headers=headers,\n",
    "                        json=data).json()\n",
    "    ps = dict(durations = res['durations'][0][1], distances = res['distances'][0][1])\n",
    "\n",
    "    return math.ceil(ps[\"durations\"] / 60)"
   ],
   "metadata": {
    "collapsed": false,
    "ExecuteTime": {
     "end_time": "2023-11-06T12:45:45.112334500Z",
     "start_time": "2023-11-06T12:45:44.811261400Z"
    }
   }
  },
  {
   "cell_type": "code",
   "execution_count": 12,
   "outputs": [
    {
     "name": "stdout",
     "output_type": "stream",
     "text": [
      "16\n"
     ]
    }
   ],
   "source": [
    "result = matrix(['г. Краснодар, ул. Красноармейская, д. 126', 'г. Краснодар, ул. Уральская, д. 166/3'])\n",
    "print(result)"
   ],
   "metadata": {
    "collapsed": false,
    "ExecuteTime": {
     "end_time": "2023-11-06T12:45:45.917949900Z",
     "start_time": "2023-11-06T12:45:45.113333100Z"
    }
   }
  },
  {
   "cell_type": "code",
   "execution_count": 13,
   "outputs": [],
   "source": [
    "employees = pd.read_excel('DataSet.xlsx', sheet_name='Справочник сотрудников')"
   ],
   "metadata": {
    "collapsed": false,
    "ExecuteTime": {
     "end_time": "2023-11-06T12:45:45.978962500Z",
     "start_time": "2023-11-06T12:45:45.920950400Z"
    }
   }
  },
  {
   "cell_type": "code",
   "execution_count": 14,
   "outputs": [],
   "source": [
    "centres = employees[\"Адрес локации\"].unique()"
   ],
   "metadata": {
    "collapsed": false,
    "ExecuteTime": {
     "end_time": "2023-11-06T12:45:45.989965600Z",
     "start_time": "2023-11-06T12:45:45.954959200Z"
    }
   }
  },
  {
   "cell_type": "code",
   "execution_count": 15,
   "outputs": [],
   "source": [
    "def set_grade(employee_grade):\n",
    "    match employee_grade:\n",
    "        case \"Синьор\":\n",
    "            return [1,2,3]\n",
    "        case \"Мидл\":\n",
    "            return [2,3]\n",
    "        case \"Джун\":\n",
    "            return [3]"
   ],
   "metadata": {
    "collapsed": false,
    "ExecuteTime": {
     "end_time": "2023-11-06T12:45:45.990965100Z",
     "start_time": "2023-11-06T12:45:45.979962200Z"
    }
   }
  },
  {
   "cell_type": "code",
   "execution_count": 16,
   "outputs": [],
   "source": [
    "employees[\"Решаемые задачи\"] = employees[\"Грейд\"].apply(set_grade)"
   ],
   "metadata": {
    "collapsed": false,
    "ExecuteTime": {
     "end_time": "2023-11-06T12:45:45.996967800Z",
     "start_time": "2023-11-06T12:45:45.985964900Z"
    }
   }
  },
  {
   "cell_type": "code",
   "execution_count": 17,
   "outputs": [
    {
     "data": {
      "text/plain": "                           ФИО                     Адрес локации   Грейд  \\\n0  Дерягин Никита Владимирович        Краснодар, Красная, д. 139  Синьор   \n1    Петрошев Валерий Павлович        Краснодар, Красная, д. 139    Мидл   \n2    Евдокимов Давид Тихонович        Краснодар, Красная, д. 139    Джун   \n3     Андреев Гордий Данилович        Краснодар, В.Н. Мачуги, 41  Синьор   \n4        Иванов Адам Федорович        Краснодар, В.Н. Мачуги, 41    Мидл   \n5  Бобылёв Ипполит Альбертович        Краснодар, В.Н. Мачуги, 41    Джун   \n6    Беляева Евгения Антоновна  Краснодар, Красных Партизан, 321    Мидл   \n7   Николаев Азарий Платонович  Краснодар, Красных Партизан, 321    Джун   \n\n  Решаемые задачи  \n0       [1, 2, 3]  \n1          [2, 3]  \n2             [3]  \n3       [1, 2, 3]  \n4          [2, 3]  \n5             [3]  \n6          [2, 3]  \n7             [3]  ",
      "text/html": "<div>\n<style scoped>\n    .dataframe tbody tr th:only-of-type {\n        vertical-align: middle;\n    }\n\n    .dataframe tbody tr th {\n        vertical-align: top;\n    }\n\n    .dataframe thead th {\n        text-align: right;\n    }\n</style>\n<table border=\"1\" class=\"dataframe\">\n  <thead>\n    <tr style=\"text-align: right;\">\n      <th></th>\n      <th>ФИО</th>\n      <th>Адрес локации</th>\n      <th>Грейд</th>\n      <th>Решаемые задачи</th>\n    </tr>\n  </thead>\n  <tbody>\n    <tr>\n      <th>0</th>\n      <td>Дерягин Никита Владимирович</td>\n      <td>Краснодар, Красная, д. 139</td>\n      <td>Синьор</td>\n      <td>[1, 2, 3]</td>\n    </tr>\n    <tr>\n      <th>1</th>\n      <td>Петрошев Валерий Павлович</td>\n      <td>Краснодар, Красная, д. 139</td>\n      <td>Мидл</td>\n      <td>[2, 3]</td>\n    </tr>\n    <tr>\n      <th>2</th>\n      <td>Евдокимов Давид Тихонович</td>\n      <td>Краснодар, Красная, д. 139</td>\n      <td>Джун</td>\n      <td>[3]</td>\n    </tr>\n    <tr>\n      <th>3</th>\n      <td>Андреев Гордий Данилович</td>\n      <td>Краснодар, В.Н. Мачуги, 41</td>\n      <td>Синьор</td>\n      <td>[1, 2, 3]</td>\n    </tr>\n    <tr>\n      <th>4</th>\n      <td>Иванов Адам Федорович</td>\n      <td>Краснодар, В.Н. Мачуги, 41</td>\n      <td>Мидл</td>\n      <td>[2, 3]</td>\n    </tr>\n    <tr>\n      <th>5</th>\n      <td>Бобылёв Ипполит Альбертович</td>\n      <td>Краснодар, В.Н. Мачуги, 41</td>\n      <td>Джун</td>\n      <td>[3]</td>\n    </tr>\n    <tr>\n      <th>6</th>\n      <td>Беляева Евгения Антоновна</td>\n      <td>Краснодар, Красных Партизан, 321</td>\n      <td>Мидл</td>\n      <td>[2, 3]</td>\n    </tr>\n    <tr>\n      <th>7</th>\n      <td>Николаев Азарий Платонович</td>\n      <td>Краснодар, Красных Партизан, 321</td>\n      <td>Джун</td>\n      <td>[3]</td>\n    </tr>\n  </tbody>\n</table>\n</div>"
     },
     "execution_count": 17,
     "metadata": {},
     "output_type": "execute_result"
    }
   ],
   "source": [
    "employees"
   ],
   "metadata": {
    "collapsed": false,
    "ExecuteTime": {
     "end_time": "2023-11-06T12:45:46.034977700Z",
     "start_time": "2023-11-06T12:45:45.999969200Z"
    }
   }
  },
  {
   "cell_type": "code",
   "execution_count": 18,
   "outputs": [],
   "source": [
    "employees_in_task = employees.copy()\n",
    "employees_in_task[\"Кол-во отработанных минут\"] = 0\n",
    "employees_in_task[\"Номера взятых задач\"] = employees_in_task[\"Кол-во отработанных минут\"].apply(lambda x: [])"
   ],
   "metadata": {
    "collapsed": false,
    "ExecuteTime": {
     "end_time": "2023-11-06T12:45:46.071002800Z",
     "start_time": "2023-11-06T12:45:46.014971600Z"
    }
   }
  },
  {
   "cell_type": "code",
   "execution_count": 19,
   "outputs": [],
   "source": [
    "points_tomorrow = {\n",
    "    '№ точки': [],\n",
    "    'Адрес точки, г. Краснодар': [],\n",
    "    'Когда подключена точка?': [],\n",
    "    'Карты и материалы доставлены?': [],\n",
    "    'Кол-во дней после выдачи последней карты': [],\n",
    "    'Кол-во одобренных заявок': [],\n",
    "    'Кол-во выданных карт': [],\n",
    "    '№ Задачи': []\n",
    "}\n",
    "\n",
    "points_tomorrow = pd.DataFrame(points_tomorrow)"
   ],
   "metadata": {
    "collapsed": false,
    "ExecuteTime": {
     "end_time": "2023-11-06T12:45:46.113994200Z",
     "start_time": "2023-11-06T12:45:46.030980Z"
    }
   }
  },
  {
   "cell_type": "code",
   "execution_count": 20,
   "outputs": [
    {
     "data": {
      "text/plain": "                           ФИО                     Адрес локации   Грейд  \\\n0  Дерягин Никита Владимирович        Краснодар, Красная, д. 139  Синьор   \n1    Петрошев Валерий Павлович        Краснодар, Красная, д. 139    Мидл   \n2    Евдокимов Давид Тихонович        Краснодар, Красная, д. 139    Джун   \n3     Андреев Гордий Данилович        Краснодар, В.Н. Мачуги, 41  Синьор   \n4        Иванов Адам Федорович        Краснодар, В.Н. Мачуги, 41    Мидл   \n5  Бобылёв Ипполит Альбертович        Краснодар, В.Н. Мачуги, 41    Джун   \n6    Беляева Евгения Антоновна  Краснодар, Красных Партизан, 321    Мидл   \n7   Николаев Азарий Платонович  Краснодар, Красных Партизан, 321    Джун   \n\n  Решаемые задачи  Кол-во отработанных минут Номера взятых задач  \n0       [1, 2, 3]                          0                  []  \n1          [2, 3]                          0                  []  \n2             [3]                          0                  []  \n3       [1, 2, 3]                          0                  []  \n4          [2, 3]                          0                  []  \n5             [3]                          0                  []  \n6          [2, 3]                          0                  []  \n7             [3]                          0                  []  ",
      "text/html": "<div>\n<style scoped>\n    .dataframe tbody tr th:only-of-type {\n        vertical-align: middle;\n    }\n\n    .dataframe tbody tr th {\n        vertical-align: top;\n    }\n\n    .dataframe thead th {\n        text-align: right;\n    }\n</style>\n<table border=\"1\" class=\"dataframe\">\n  <thead>\n    <tr style=\"text-align: right;\">\n      <th></th>\n      <th>ФИО</th>\n      <th>Адрес локации</th>\n      <th>Грейд</th>\n      <th>Решаемые задачи</th>\n      <th>Кол-во отработанных минут</th>\n      <th>Номера взятых задач</th>\n    </tr>\n  </thead>\n  <tbody>\n    <tr>\n      <th>0</th>\n      <td>Дерягин Никита Владимирович</td>\n      <td>Краснодар, Красная, д. 139</td>\n      <td>Синьор</td>\n      <td>[1, 2, 3]</td>\n      <td>0</td>\n      <td>[]</td>\n    </tr>\n    <tr>\n      <th>1</th>\n      <td>Петрошев Валерий Павлович</td>\n      <td>Краснодар, Красная, д. 139</td>\n      <td>Мидл</td>\n      <td>[2, 3]</td>\n      <td>0</td>\n      <td>[]</td>\n    </tr>\n    <tr>\n      <th>2</th>\n      <td>Евдокимов Давид Тихонович</td>\n      <td>Краснодар, Красная, д. 139</td>\n      <td>Джун</td>\n      <td>[3]</td>\n      <td>0</td>\n      <td>[]</td>\n    </tr>\n    <tr>\n      <th>3</th>\n      <td>Андреев Гордий Данилович</td>\n      <td>Краснодар, В.Н. Мачуги, 41</td>\n      <td>Синьор</td>\n      <td>[1, 2, 3]</td>\n      <td>0</td>\n      <td>[]</td>\n    </tr>\n    <tr>\n      <th>4</th>\n      <td>Иванов Адам Федорович</td>\n      <td>Краснодар, В.Н. Мачуги, 41</td>\n      <td>Мидл</td>\n      <td>[2, 3]</td>\n      <td>0</td>\n      <td>[]</td>\n    </tr>\n    <tr>\n      <th>5</th>\n      <td>Бобылёв Ипполит Альбертович</td>\n      <td>Краснодар, В.Н. Мачуги, 41</td>\n      <td>Джун</td>\n      <td>[3]</td>\n      <td>0</td>\n      <td>[]</td>\n    </tr>\n    <tr>\n      <th>6</th>\n      <td>Беляева Евгения Антоновна</td>\n      <td>Краснодар, Красных Партизан, 321</td>\n      <td>Мидл</td>\n      <td>[2, 3]</td>\n      <td>0</td>\n      <td>[]</td>\n    </tr>\n    <tr>\n      <th>7</th>\n      <td>Николаев Азарий Платонович</td>\n      <td>Краснодар, Красных Партизан, 321</td>\n      <td>Джун</td>\n      <td>[3]</td>\n      <td>0</td>\n      <td>[]</td>\n    </tr>\n  </tbody>\n</table>\n</div>"
     },
     "execution_count": 20,
     "metadata": {},
     "output_type": "execute_result"
    }
   ],
   "source": [
    "employees_in_task"
   ],
   "metadata": {
    "collapsed": false,
    "ExecuteTime": {
     "end_time": "2023-11-06T12:45:46.142018800Z",
     "start_time": "2023-11-06T12:45:46.044978400Z"
    }
   }
  },
  {
   "cell_type": "code",
   "execution_count": 21,
   "outputs": [
    {
     "ename": "SyntaxError",
     "evalue": "invalid syntax (578489239.py, line 1)",
     "output_type": "error",
     "traceback": [
      "\u001B[1;36m  Cell \u001B[1;32mIn[21], line 1\u001B[1;36m\u001B[0m\n\u001B[1;33m    fььor index, point in points.iterrows():\u001B[0m\n\u001B[1;37m          ^\u001B[0m\n\u001B[1;31mSyntaxError\u001B[0m\u001B[1;31m:\u001B[0m invalid syntax\n"
     ]
    }
   ],
   "source": [
    "fььor index, point in points.iterrows():\n",
    "    task_number = point['№ Задачи']\n",
    "    if task_number == 0:\n",
    "        continue\n",
    "    elif task_number == 1:\n",
    "        task_time = 240\n",
    "    elif task_number == 2:\n",
    "        task_time = 120\n",
    "    elif task_number == 3:\n",
    "        task_time = 90\n",
    "    else:\n",
    "        continue\n",
    "\n",
    "    best_travel_time = 10000\n",
    "    best_employee_id = None\n",
    "    # task_accepted = False\n",
    "    origin = 'Краснодар, ' + point['Адрес точки, г. Краснодар']\n",
    "\n",
    "    suitable_employees = employees_in_task[employees_in_task['Решаемые задачи'].apply(lambda x: task_number in x)]\n",
    "    suitable_employees = suitable_employees.sort_values(by=['Грейд'])\n",
    "\n",
    "    if task_number == 3:\n",
    "        junior = suitable_employees[suitable_employees[\"Грейд\"] == \"Джун\"]\n",
    "        if junior[junior['Кол-во отработанных минут'] >= 640].sum() < len(junior):\n",
    "            suitable_employees = junior\n",
    "        else:\n",
    "            suitable_employees = suitable_employees[suitable_employees[\"Грейд\"] != \"Джун\"]\n",
    "\n",
    "    if task_number == 2:\n",
    "        middle = suitable_employees[suitable_employees[\"Грейд\"] == \"Мидл\"]\n",
    "        if middle[middle['Кол-во отработанных минут'] >= 640].sum() < len(middle):\n",
    "            suitable_employees = middle\n",
    "        else:\n",
    "            suitable_employees = suitable_employees[suitable_employees[\"Грейд\"] == \"Синьор\"]\n",
    "\n",
    "    for e_index, employee in suitable_employees.iterrows():\n",
    "\n",
    "        if employee[\"Кол-во отработанных часов\"] + task_time >= 640:\n",
    "            continue\n",
    "\n",
    "        destination = employee[\"Адрес локации\"]\n",
    "        travel_time = matrix([origin, destination])\n",
    "        if travel_time < best_travel_time:\n",
    "            best_travel_time = travel_time\n",
    "            best_employee_id = e_index\n",
    "\n",
    "    if best_employee_id is None:\n",
    "        points_tomorrow = pd.concat([points_tomorrow, pd.DataFrame([point])])\n",
    "\n",
    "    else:\n",
    "        employees_in_task.loc[best_employee_id, \"Кол-во отработанных минут\"] += best_travel_time + task_time\n",
    "        employees_in_task.loc[best_employee_id, \"Номера взятых задач\"].append(index)\n",
    "        employees_in_task.loc[best_employee_id, \"Адрес локации\"] = origin\n"
   ],
   "metadata": {
    "collapsed": false,
    "ExecuteTime": {
     "end_time": "2023-11-06T12:45:46.143013600Z",
     "start_time": "2023-11-06T12:45:46.078984100Z"
    }
   }
  },
  {
   "cell_type": "code",
   "execution_count": null,
   "outputs": [],
   "source": [],
   "metadata": {
    "collapsed": false,
    "ExecuteTime": {
     "start_time": "2023-11-06T12:45:46.089989300Z"
    }
   }
  },
  {
   "cell_type": "code",
   "execution_count": null,
   "outputs": [],
   "source": [
    "points_tomorrow"
   ],
   "metadata": {
    "collapsed": false,
    "ExecuteTime": {
     "start_time": "2023-11-06T12:45:46.092989800Z"
    }
   }
  },
  {
   "cell_type": "code",
   "execution_count": null,
   "outputs": [],
   "source": [
    "employees_in_task[employees_in_task['Кол-во отработанных минут'] >= 640][\"ФИО\"].sum() < 3"
   ],
   "metadata": {
    "collapsed": false,
    "ExecuteTime": {
     "start_time": "2023-11-06T12:45:46.096991300Z"
    }
   }
  },
  {
   "cell_type": "code",
   "execution_count": null,
   "outputs": [],
   "source": [
    "employees"
   ],
   "metadata": {
    "collapsed": false,
    "ExecuteTime": {
     "start_time": "2023-11-06T12:45:46.108992600Z"
    }
   }
  },
  {
   "cell_type": "code",
   "execution_count": null,
   "outputs": [],
   "source": [
    "points_tomorrow = {\n",
    "    key: [] for key in points.columns\n",
    "}"
   ],
   "metadata": {
    "collapsed": false,
    "ExecuteTime": {
     "start_time": "2023-11-06T12:45:46.108992600Z"
    }
   }
  },
  {
   "cell_type": "code",
   "execution_count": null,
   "outputs": [],
   "source": [
    "points_tomorrow = pd.DataFrame(points_tomorrow)"
   ],
   "metadata": {
    "collapsed": false,
    "ExecuteTime": {
     "start_time": "2023-11-06T12:45:46.108992600Z"
    }
   }
  },
  {
   "cell_type": "code",
   "execution_count": null,
   "outputs": [],
   "source": [
    "points_tomorrow"
   ],
   "metadata": {
    "collapsed": false,
    "ExecuteTime": {
     "start_time": "2023-11-06T12:45:46.111993800Z"
    }
   }
  },
  {
   "cell_type": "code",
   "execution_count": 34,
   "outputs": [
    {
     "data": {
      "text/plain": "0"
     },
     "execution_count": 34,
     "metadata": {},
     "output_type": "execute_result"
    }
   ],
   "source": [
    "employees_in_task[employees_in_task['Кол-во отработанных минут'] >= 1]['ФИО'].count()"
   ],
   "metadata": {
    "collapsed": false,
    "ExecuteTime": {
     "end_time": "2023-11-06T12:58:03.124615Z",
     "start_time": "2023-11-06T12:58:03.097768600Z"
    }
   }
  },
  {
   "cell_type": "code",
   "execution_count": 27,
   "outputs": [
    {
     "data": {
      "text/plain": "                           ФИО                     Адрес локации   Грейд  \\\n0  Дерягин Никита Владимирович        Краснодар, Красная, д. 139  Синьор   \n1    Петрошев Валерий Павлович        Краснодар, Красная, д. 139    Мидл   \n2    Евдокимов Давид Тихонович        Краснодар, Красная, д. 139    Джун   \n3     Андреев Гордий Данилович        Краснодар, В.Н. Мачуги, 41  Синьор   \n4        Иванов Адам Федорович        Краснодар, В.Н. Мачуги, 41    Мидл   \n5  Бобылёв Ипполит Альбертович        Краснодар, В.Н. Мачуги, 41    Джун   \n6    Беляева Евгения Антоновна  Краснодар, Красных Партизан, 321    Мидл   \n7   Николаев Азарий Платонович  Краснодар, Красных Партизан, 321    Джун   \n\n  Решаемые задачи  Кол-во отработанных минут Номера взятых задач  \n0       [1, 2, 3]                          0                  []  \n1          [2, 3]                          0                  []  \n2             [3]                          0                  []  \n3       [1, 2, 3]                          0                  []  \n4          [2, 3]                          0                  []  \n5             [3]                          0                  []  \n6          [2, 3]                          0                  []  \n7             [3]                          0                  []  ",
      "text/html": "<div>\n<style scoped>\n    .dataframe tbody tr th:only-of-type {\n        vertical-align: middle;\n    }\n\n    .dataframe tbody tr th {\n        vertical-align: top;\n    }\n\n    .dataframe thead th {\n        text-align: right;\n    }\n</style>\n<table border=\"1\" class=\"dataframe\">\n  <thead>\n    <tr style=\"text-align: right;\">\n      <th></th>\n      <th>ФИО</th>\n      <th>Адрес локации</th>\n      <th>Грейд</th>\n      <th>Решаемые задачи</th>\n      <th>Кол-во отработанных минут</th>\n      <th>Номера взятых задач</th>\n    </tr>\n  </thead>\n  <tbody>\n    <tr>\n      <th>0</th>\n      <td>Дерягин Никита Владимирович</td>\n      <td>Краснодар, Красная, д. 139</td>\n      <td>Синьор</td>\n      <td>[1, 2, 3]</td>\n      <td>0</td>\n      <td>[]</td>\n    </tr>\n    <tr>\n      <th>1</th>\n      <td>Петрошев Валерий Павлович</td>\n      <td>Краснодар, Красная, д. 139</td>\n      <td>Мидл</td>\n      <td>[2, 3]</td>\n      <td>0</td>\n      <td>[]</td>\n    </tr>\n    <tr>\n      <th>2</th>\n      <td>Евдокимов Давид Тихонович</td>\n      <td>Краснодар, Красная, д. 139</td>\n      <td>Джун</td>\n      <td>[3]</td>\n      <td>0</td>\n      <td>[]</td>\n    </tr>\n    <tr>\n      <th>3</th>\n      <td>Андреев Гордий Данилович</td>\n      <td>Краснодар, В.Н. Мачуги, 41</td>\n      <td>Синьор</td>\n      <td>[1, 2, 3]</td>\n      <td>0</td>\n      <td>[]</td>\n    </tr>\n    <tr>\n      <th>4</th>\n      <td>Иванов Адам Федорович</td>\n      <td>Краснодар, В.Н. Мачуги, 41</td>\n      <td>Мидл</td>\n      <td>[2, 3]</td>\n      <td>0</td>\n      <td>[]</td>\n    </tr>\n    <tr>\n      <th>5</th>\n      <td>Бобылёв Ипполит Альбертович</td>\n      <td>Краснодар, В.Н. Мачуги, 41</td>\n      <td>Джун</td>\n      <td>[3]</td>\n      <td>0</td>\n      <td>[]</td>\n    </tr>\n    <tr>\n      <th>6</th>\n      <td>Беляева Евгения Антоновна</td>\n      <td>Краснодар, Красных Партизан, 321</td>\n      <td>Мидл</td>\n      <td>[2, 3]</td>\n      <td>0</td>\n      <td>[]</td>\n    </tr>\n    <tr>\n      <th>7</th>\n      <td>Николаев Азарий Платонович</td>\n      <td>Краснодар, Красных Партизан, 321</td>\n      <td>Джун</td>\n      <td>[3]</td>\n      <td>0</td>\n      <td>[]</td>\n    </tr>\n  </tbody>\n</table>\n</div>"
     },
     "execution_count": 27,
     "metadata": {},
     "output_type": "execute_result"
    }
   ],
   "source": [
    "employees_in_task"
   ],
   "metadata": {
    "collapsed": false,
    "ExecuteTime": {
     "end_time": "2023-11-06T12:52:39.765301800Z",
     "start_time": "2023-11-06T12:52:39.725400200Z"
    }
   }
  },
  {
   "cell_type": "code",
   "execution_count": null,
   "outputs": [],
   "source": [],
   "metadata": {
    "collapsed": false
   }
  }
 ],
 "metadata": {
  "kernelspec": {
   "display_name": "Python 3",
   "language": "python",
   "name": "python3"
  },
  "language_info": {
   "codemirror_mode": {
    "name": "ipython",
    "version": 2
   },
   "file_extension": ".py",
   "mimetype": "text/x-python",
   "name": "python",
   "nbconvert_exporter": "python",
   "pygments_lexer": "ipython2",
   "version": "2.7.6"
  }
 },
 "nbformat": 4,
 "nbformat_minor": 0
}
