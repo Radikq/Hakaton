{
 "cells": [
  {
   "cell_type": "code",
   "execution_count": 1,
   "metadata": {
    "collapsed": true,
    "ExecuteTime": {
     "end_time": "2023-11-05T19:58:40.110189800Z",
     "start_time": "2023-11-05T19:58:36.688287600Z"
    }
   },
   "outputs": [],
   "source": [
    "import math\n",
    "\n",
    "import pandas as pd"
   ]
  },
  {
   "cell_type": "code",
   "execution_count": 2,
   "outputs": [],
   "source": [
    "points = pd.read_excel('DataSet.xlsx', sheet_name='Входные данные для анализа', usecols=range(7))"
   ],
   "metadata": {
    "collapsed": false,
    "ExecuteTime": {
     "end_time": "2023-11-05T19:58:41.325624300Z",
     "start_time": "2023-11-05T19:58:40.112189900Z"
    }
   }
  },
  {
   "cell_type": "code",
   "execution_count": 3,
   "outputs": [
    {
     "data": {
      "text/plain": "   № точки                         Адрес точки, г. Краснодар   \n0        1                        ул. Ставропольская, д. 140  \\\n1        2                  ул. им. Максима Горького, д. 128   \n2        3                      ул. им. Дзержинского, д. 100   \n3        4                       ул. Красноармейская, д. 126   \n4        5                                х. Ленина, п/о. 37   \n5        6  тер. Пашковский жилой массив, ул. Крылатая, д. 2   \n6        7               ул. Восточно-Кругликовская, д. 64/2   \n7        8                      ул. Красных Партизан, д. 439   \n8        9                 ул. Таманская, д. 153 к. 3, кв. 2   \n9       10                      ул. им. Дзержинского, д. 165   \n\n  Когда подключена точка? Карты и материалы доставлены?   \n0                   вчера                           нет  \\\n1                   давно                            да   \n2                   давно                            да   \n3                   давно                            да   \n4                   давно                           нет   \n5                   давно                            да   \n6                   давно                            да   \n7                   давно                            да   \n8                   давно                            да   \n9                   давно                            да   \n\n   Кол-во дней после выдачи последней карты  Кол-во одобренных заявок   \n0                                       0.0                       0.0  \\\n1                                       3.0                      15.0   \n2                                       3.0                       9.0   \n3                                       0.0                      38.0   \n4                                       0.0                      14.0   \n5                                      12.0                      19.0   \n6                                      27.0                      19.0   \n7                                      33.0                      84.0   \n8                                       2.0                      15.0   \n9                                       0.0                      19.0   \n\n   Кол-во выданных карт  \n0                   0.0  \n1                   3.0  \n2                   1.0  \n3                  23.0  \n4                   0.0  \n5                   1.0  \n6                  12.0  \n7                  63.0  \n8                   1.0  \n9                   0.0  ",
      "text/html": "<div>\n<style scoped>\n    .dataframe tbody tr th:only-of-type {\n        vertical-align: middle;\n    }\n\n    .dataframe tbody tr th {\n        vertical-align: top;\n    }\n\n    .dataframe thead th {\n        text-align: right;\n    }\n</style>\n<table border=\"1\" class=\"dataframe\">\n  <thead>\n    <tr style=\"text-align: right;\">\n      <th></th>\n      <th>№ точки</th>\n      <th>Адрес точки, г. Краснодар</th>\n      <th>Когда подключена точка?</th>\n      <th>Карты и материалы доставлены?</th>\n      <th>Кол-во дней после выдачи последней карты</th>\n      <th>Кол-во одобренных заявок</th>\n      <th>Кол-во выданных карт</th>\n    </tr>\n  </thead>\n  <tbody>\n    <tr>\n      <th>0</th>\n      <td>1</td>\n      <td>ул. Ставропольская, д. 140</td>\n      <td>вчера</td>\n      <td>нет</td>\n      <td>0.0</td>\n      <td>0.0</td>\n      <td>0.0</td>\n    </tr>\n    <tr>\n      <th>1</th>\n      <td>2</td>\n      <td>ул. им. Максима Горького, д. 128</td>\n      <td>давно</td>\n      <td>да</td>\n      <td>3.0</td>\n      <td>15.0</td>\n      <td>3.0</td>\n    </tr>\n    <tr>\n      <th>2</th>\n      <td>3</td>\n      <td>ул. им. Дзержинского, д. 100</td>\n      <td>давно</td>\n      <td>да</td>\n      <td>3.0</td>\n      <td>9.0</td>\n      <td>1.0</td>\n    </tr>\n    <tr>\n      <th>3</th>\n      <td>4</td>\n      <td>ул. Красноармейская, д. 126</td>\n      <td>давно</td>\n      <td>да</td>\n      <td>0.0</td>\n      <td>38.0</td>\n      <td>23.0</td>\n    </tr>\n    <tr>\n      <th>4</th>\n      <td>5</td>\n      <td>х. Ленина, п/о. 37</td>\n      <td>давно</td>\n      <td>нет</td>\n      <td>0.0</td>\n      <td>14.0</td>\n      <td>0.0</td>\n    </tr>\n    <tr>\n      <th>5</th>\n      <td>6</td>\n      <td>тер. Пашковский жилой массив, ул. Крылатая, д. 2</td>\n      <td>давно</td>\n      <td>да</td>\n      <td>12.0</td>\n      <td>19.0</td>\n      <td>1.0</td>\n    </tr>\n    <tr>\n      <th>6</th>\n      <td>7</td>\n      <td>ул. Восточно-Кругликовская, д. 64/2</td>\n      <td>давно</td>\n      <td>да</td>\n      <td>27.0</td>\n      <td>19.0</td>\n      <td>12.0</td>\n    </tr>\n    <tr>\n      <th>7</th>\n      <td>8</td>\n      <td>ул. Красных Партизан, д. 439</td>\n      <td>давно</td>\n      <td>да</td>\n      <td>33.0</td>\n      <td>84.0</td>\n      <td>63.0</td>\n    </tr>\n    <tr>\n      <th>8</th>\n      <td>9</td>\n      <td>ул. Таманская, д. 153 к. 3, кв. 2</td>\n      <td>давно</td>\n      <td>да</td>\n      <td>2.0</td>\n      <td>15.0</td>\n      <td>1.0</td>\n    </tr>\n    <tr>\n      <th>9</th>\n      <td>10</td>\n      <td>ул. им. Дзержинского, д. 165</td>\n      <td>давно</td>\n      <td>да</td>\n      <td>0.0</td>\n      <td>19.0</td>\n      <td>0.0</td>\n    </tr>\n  </tbody>\n</table>\n</div>"
     },
     "execution_count": 3,
     "metadata": {},
     "output_type": "execute_result"
    }
   ],
   "source": [
    "points.head(10)"
   ],
   "metadata": {
    "collapsed": false,
    "ExecuteTime": {
     "end_time": "2023-11-05T19:58:41.413435500Z",
     "start_time": "2023-11-05T19:58:41.330624400Z"
    }
   }
  },
  {
   "cell_type": "code",
   "execution_count": 4,
   "outputs": [],
   "source": [
    "points.dropna(inplace=True)"
   ],
   "metadata": {
    "collapsed": false,
    "ExecuteTime": {
     "end_time": "2023-11-05T19:58:41.425725800Z",
     "start_time": "2023-11-05T19:58:41.395111500Z"
    }
   }
  },
  {
   "cell_type": "markdown",
   "source": [
    "**Задача 1**: Выезд на точку для стимулирования выдач | Высокий | 4 часа\n",
    "**Задача 2**: Обучение агента\t| Средний | 2 часа\n",
    "**Задача 3**: Доставка карт и материалов | Низкий | 1,5 часа\n"
   ],
   "metadata": {
    "collapsed": false
   }
  },
  {
   "cell_type": "code",
   "execution_count": 5,
   "outputs": [],
   "source": [
    "def set_task(point):\n",
    "    if point[\"Когда подключена точка?\"] == \"вчера\" or point[\"Карты и материалы доставлены?\"] == \"нет\":\n",
    "        return 3\n",
    "    elif point['Кол-во выданных карт'] / point['Кол-во одобренных заявок'] <= 0.5:\n",
    "        return 2\n",
    "    elif (point[\"Кол-во дней после выдачи последней карты\"] >= 7 and point['Кол-во одобренных заявок'] >= 1) or point[\"Кол-во дней после выдачи последней карты\"] >= 14:\n",
    "        return 1\n",
    "    else:\n",
    "        return 0"
   ],
   "metadata": {
    "collapsed": false,
    "ExecuteTime": {
     "end_time": "2023-11-05T19:58:41.464513300Z",
     "start_time": "2023-11-05T19:58:41.422726100Z"
    }
   }
  },
  {
   "cell_type": "code",
   "execution_count": 6,
   "outputs": [],
   "source": [
    "points[\"№ Задачи\"] = points.apply(set_task, axis=1)"
   ],
   "metadata": {
    "collapsed": false,
    "ExecuteTime": {
     "end_time": "2023-11-05T19:58:41.548167600Z",
     "start_time": "2023-11-05T19:58:41.438957900Z"
    }
   }
  },
  {
   "cell_type": "code",
   "execution_count": 7,
   "outputs": [],
   "source": [
    "points.sort_values(by='№ Задачи', inplace=True)"
   ],
   "metadata": {
    "collapsed": false,
    "ExecuteTime": {
     "end_time": "2023-11-05T19:58:41.590096500Z",
     "start_time": "2023-11-05T19:58:41.469631700Z"
    }
   }
  },
  {
   "cell_type": "code",
   "execution_count": 8,
   "outputs": [
    {
     "data": {
      "text/plain": "    № точки                   Адрес точки, г. Краснодар   \n3         4                 ул. Красноармейская, д. 126  \\\n26       27                     ул. Уральская, д. 166/3   \n33       34                         ул. Красная, д. 176   \n34       35                      ул. Уральская, д. 79/1   \n10       11  ст-ца. Елизаветинская, ул. Широкая, д. 260   \n7         8                ул. Красных Партизан, д. 439   \n36       37                         ул. Красная, д. 149   \n29       30                      ул. Коммунаров, д. 258   \n6         7         ул. Восточно-Кругликовская, д. 64/2   \n28       29        ул. им. Кирилла Россинского, д. 61/1   \n\n   Когда подключена точка? Карты и материалы доставлены?   \n3                    давно                            да  \\\n26                   давно                            да   \n33                   давно                            да   \n34                   давно                            да   \n10                   давно                            да   \n7                    давно                            да   \n36                   давно                            да   \n29                   давно                            да   \n6                    давно                            да   \n28                   давно                            да   \n\n    Кол-во дней после выдачи последней карты  Кол-во одобренных заявок   \n3                                        0.0                      38.0  \\\n26                                       3.0                      43.0   \n33                                      76.0                      82.0   \n34                                      23.0                      32.0   \n10                                      15.0                      29.0   \n7                                       33.0                      84.0   \n36                                       9.0                      10.0   \n29                                      16.0                      45.0   \n6                                       27.0                      19.0   \n28                                       6.0                      19.0   \n\n    Кол-во выданных карт  № Задачи  \n3                   23.0         0  \n26                  29.0         0  \n33                  72.0         1  \n34                  21.0         1  \n10                  15.0         1  \n7                   63.0         1  \n36                   7.0         1  \n29                  30.0         1  \n6                   12.0         1  \n28                   5.0         2  ",
      "text/html": "<div>\n<style scoped>\n    .dataframe tbody tr th:only-of-type {\n        vertical-align: middle;\n    }\n\n    .dataframe tbody tr th {\n        vertical-align: top;\n    }\n\n    .dataframe thead th {\n        text-align: right;\n    }\n</style>\n<table border=\"1\" class=\"dataframe\">\n  <thead>\n    <tr style=\"text-align: right;\">\n      <th></th>\n      <th>№ точки</th>\n      <th>Адрес точки, г. Краснодар</th>\n      <th>Когда подключена точка?</th>\n      <th>Карты и материалы доставлены?</th>\n      <th>Кол-во дней после выдачи последней карты</th>\n      <th>Кол-во одобренных заявок</th>\n      <th>Кол-во выданных карт</th>\n      <th>№ Задачи</th>\n    </tr>\n  </thead>\n  <tbody>\n    <tr>\n      <th>3</th>\n      <td>4</td>\n      <td>ул. Красноармейская, д. 126</td>\n      <td>давно</td>\n      <td>да</td>\n      <td>0.0</td>\n      <td>38.0</td>\n      <td>23.0</td>\n      <td>0</td>\n    </tr>\n    <tr>\n      <th>26</th>\n      <td>27</td>\n      <td>ул. Уральская, д. 166/3</td>\n      <td>давно</td>\n      <td>да</td>\n      <td>3.0</td>\n      <td>43.0</td>\n      <td>29.0</td>\n      <td>0</td>\n    </tr>\n    <tr>\n      <th>33</th>\n      <td>34</td>\n      <td>ул. Красная, д. 176</td>\n      <td>давно</td>\n      <td>да</td>\n      <td>76.0</td>\n      <td>82.0</td>\n      <td>72.0</td>\n      <td>1</td>\n    </tr>\n    <tr>\n      <th>34</th>\n      <td>35</td>\n      <td>ул. Уральская, д. 79/1</td>\n      <td>давно</td>\n      <td>да</td>\n      <td>23.0</td>\n      <td>32.0</td>\n      <td>21.0</td>\n      <td>1</td>\n    </tr>\n    <tr>\n      <th>10</th>\n      <td>11</td>\n      <td>ст-ца. Елизаветинская, ул. Широкая, д. 260</td>\n      <td>давно</td>\n      <td>да</td>\n      <td>15.0</td>\n      <td>29.0</td>\n      <td>15.0</td>\n      <td>1</td>\n    </tr>\n    <tr>\n      <th>7</th>\n      <td>8</td>\n      <td>ул. Красных Партизан, д. 439</td>\n      <td>давно</td>\n      <td>да</td>\n      <td>33.0</td>\n      <td>84.0</td>\n      <td>63.0</td>\n      <td>1</td>\n    </tr>\n    <tr>\n      <th>36</th>\n      <td>37</td>\n      <td>ул. Красная, д. 149</td>\n      <td>давно</td>\n      <td>да</td>\n      <td>9.0</td>\n      <td>10.0</td>\n      <td>7.0</td>\n      <td>1</td>\n    </tr>\n    <tr>\n      <th>29</th>\n      <td>30</td>\n      <td>ул. Коммунаров, д. 258</td>\n      <td>давно</td>\n      <td>да</td>\n      <td>16.0</td>\n      <td>45.0</td>\n      <td>30.0</td>\n      <td>1</td>\n    </tr>\n    <tr>\n      <th>6</th>\n      <td>7</td>\n      <td>ул. Восточно-Кругликовская, д. 64/2</td>\n      <td>давно</td>\n      <td>да</td>\n      <td>27.0</td>\n      <td>19.0</td>\n      <td>12.0</td>\n      <td>1</td>\n    </tr>\n    <tr>\n      <th>28</th>\n      <td>29</td>\n      <td>ул. им. Кирилла Россинского, д. 61/1</td>\n      <td>давно</td>\n      <td>да</td>\n      <td>6.0</td>\n      <td>19.0</td>\n      <td>5.0</td>\n      <td>2</td>\n    </tr>\n  </tbody>\n</table>\n</div>"
     },
     "execution_count": 8,
     "metadata": {},
     "output_type": "execute_result"
    }
   ],
   "source": [
    "points.head(10)"
   ],
   "metadata": {
    "collapsed": false,
    "ExecuteTime": {
     "end_time": "2023-11-05T19:58:41.728985Z",
     "start_time": "2023-11-05T19:58:41.483843100Z"
    }
   }
  },
  {
   "cell_type": "code",
   "execution_count": 9,
   "outputs": [
    {
     "data": {
      "text/plain": "№ Задачи\n2    21\n3    11\n1     7\n0     2\nName: count, dtype: int64"
     },
     "execution_count": 9,
     "metadata": {},
     "output_type": "execute_result"
    }
   ],
   "source": [
    "points[\"№ Задачи\"].value_counts()"
   ],
   "metadata": {
    "collapsed": false,
    "ExecuteTime": {
     "end_time": "2023-11-05T19:58:41.729984400Z",
     "start_time": "2023-11-05T19:58:41.529885200Z"
    }
   }
  },
  {
   "cell_type": "code",
   "execution_count": 10,
   "outputs": [],
   "source": [
    "# from geopy.geocoders import Nominatim\n",
    "import requests\n",
    "from yandex_geocoder import Client\n",
    "\n",
    "\n",
    "client = Client(\"22900526-289d-40ca-8382-6c3a2282e733\")\n",
    "token = '5b3ce3597851110001cf6248c6536c473ace4987b80c93db6693db1c'\n",
    "\n",
    "def matrix(address: list[str, str], profile=0):\n",
    "    coord_1 = client.coordinates(address[0])\n",
    "    coord_2 = client.coordinates(address[1])\n",
    "\n",
    "    locations = [[float(coord_1[1]), float(coord_1[0])], [float(coord_2[1]), float(coord_2[0])]]\n",
    "\n",
    "    headers = {\n",
    "        'Content-Type': 'application/json; charset=utf-8',\n",
    "        'Accept': 'application/json',\n",
    "        'Authorization': token\n",
    "    }\n",
    "    profile_dict = {\n",
    "        0: 'driving-car',\n",
    "        1: 'foot-walking'\n",
    "    }\n",
    "    data = {\"locations\":[i[::-1] for i in locations],\"metrics\":[\"distance\",\"duration\"],\"units\":\"m\"}\n",
    "    res = requests.post(f'https://api.openrouteservice.org/v2/matrix/{profile_dict[profile]}',\n",
    "                        headers=headers,\n",
    "                        json=data).json()\n",
    "    ps = dict(durations = res['durations'][0][1], distances = res['distances'][0][1])\n",
    "\n",
    "    return math.ceil(ps[\"durations\"] / 60)"
   ],
   "metadata": {
    "collapsed": false,
    "ExecuteTime": {
     "end_time": "2023-11-05T19:58:42.095248900Z",
     "start_time": "2023-11-05T19:58:41.570725500Z"
    }
   }
  },
  {
   "cell_type": "code",
   "execution_count": 11,
   "outputs": [
    {
     "name": "stdout",
     "output_type": "stream",
     "text": [
      "16\n"
     ]
    }
   ],
   "source": [
    "result = matrix(['г. Краснодар, ул. Красноармейская, д. 126', 'г. Краснодар, ул. Уральская, д. 166/3'])\n",
    "print(result)"
   ],
   "metadata": {
    "collapsed": false,
    "ExecuteTime": {
     "end_time": "2023-11-05T19:58:43.051600200Z",
     "start_time": "2023-11-05T19:58:42.007424600Z"
    }
   }
  },
  {
   "cell_type": "code",
   "execution_count": 12,
   "outputs": [],
   "source": [
    "employees = pd.read_excel('DataSet.xlsx', sheet_name='Справочник сотрудников')"
   ],
   "metadata": {
    "collapsed": false,
    "ExecuteTime": {
     "end_time": "2023-11-05T19:58:43.232358900Z",
     "start_time": "2023-11-05T19:58:43.054602200Z"
    }
   }
  },
  {
   "cell_type": "code",
   "execution_count": 13,
   "outputs": [],
   "source": [
    "centres = employees[\"Адрес локации\"].unique()"
   ],
   "metadata": {
    "collapsed": false,
    "ExecuteTime": {
     "end_time": "2023-11-05T19:58:43.241476500Z",
     "start_time": "2023-11-05T19:58:43.233360900Z"
    }
   }
  },
  {
   "cell_type": "code",
   "execution_count": 14,
   "outputs": [],
   "source": [
    "def set_grade(employee_grade):\n",
    "    match employee_grade:\n",
    "        case \"Синьор\":\n",
    "            return [1,2,3]\n",
    "        case \"Мидл\":\n",
    "            return [2,3]\n",
    "        case \"Джун\":\n",
    "            return [3]"
   ],
   "metadata": {
    "collapsed": false,
    "ExecuteTime": {
     "end_time": "2023-11-05T19:58:43.252789200Z",
     "start_time": "2023-11-05T19:58:43.238476700Z"
    }
   }
  },
  {
   "cell_type": "code",
   "execution_count": 15,
   "outputs": [],
   "source": [
    "employees[\"Решаемые задачи\"] = employees[\"Грейд\"].apply(set_grade)"
   ],
   "metadata": {
    "collapsed": false,
    "ExecuteTime": {
     "end_time": "2023-11-05T19:58:43.286841800Z",
     "start_time": "2023-11-05T19:58:43.254790200Z"
    }
   }
  },
  {
   "cell_type": "code",
   "execution_count": 16,
   "outputs": [
    {
     "data": {
      "text/plain": "                           ФИО                     Адрес локации   Грейд   \n0  Дерягин Никита Владимирович        Краснодар, Красная, д. 139  Синьор  \\\n1    Петрошев Валерий Павлович        Краснодар, Красная, д. 139    Мидл   \n2    Евдокимов Давид Тихонович        Краснодар, Красная, д. 139    Джун   \n3     Андреев Гордий Данилович        Краснодар, В.Н. Мачуги, 41  Синьор   \n4        Иванов Адам Федорович        Краснодар, В.Н. Мачуги, 41    Мидл   \n5  Бобылёв Ипполит Альбертович        Краснодар, В.Н. Мачуги, 41    Джун   \n6    Беляева Евгения Антоновна  Краснодар, Красных Партизан, 321    Мидл   \n7   Николаев Азарий Платонович  Краснодар, Красных Партизан, 321    Джун   \n\n  Решаемые задачи  \n0       [1, 2, 3]  \n1          [2, 3]  \n2             [3]  \n3       [1, 2, 3]  \n4          [2, 3]  \n5             [3]  \n6          [2, 3]  \n7             [3]  ",
      "text/html": "<div>\n<style scoped>\n    .dataframe tbody tr th:only-of-type {\n        vertical-align: middle;\n    }\n\n    .dataframe tbody tr th {\n        vertical-align: top;\n    }\n\n    .dataframe thead th {\n        text-align: right;\n    }\n</style>\n<table border=\"1\" class=\"dataframe\">\n  <thead>\n    <tr style=\"text-align: right;\">\n      <th></th>\n      <th>ФИО</th>\n      <th>Адрес локации</th>\n      <th>Грейд</th>\n      <th>Решаемые задачи</th>\n    </tr>\n  </thead>\n  <tbody>\n    <tr>\n      <th>0</th>\n      <td>Дерягин Никита Владимирович</td>\n      <td>Краснодар, Красная, д. 139</td>\n      <td>Синьор</td>\n      <td>[1, 2, 3]</td>\n    </tr>\n    <tr>\n      <th>1</th>\n      <td>Петрошев Валерий Павлович</td>\n      <td>Краснодар, Красная, д. 139</td>\n      <td>Мидл</td>\n      <td>[2, 3]</td>\n    </tr>\n    <tr>\n      <th>2</th>\n      <td>Евдокимов Давид Тихонович</td>\n      <td>Краснодар, Красная, д. 139</td>\n      <td>Джун</td>\n      <td>[3]</td>\n    </tr>\n    <tr>\n      <th>3</th>\n      <td>Андреев Гордий Данилович</td>\n      <td>Краснодар, В.Н. Мачуги, 41</td>\n      <td>Синьор</td>\n      <td>[1, 2, 3]</td>\n    </tr>\n    <tr>\n      <th>4</th>\n      <td>Иванов Адам Федорович</td>\n      <td>Краснодар, В.Н. Мачуги, 41</td>\n      <td>Мидл</td>\n      <td>[2, 3]</td>\n    </tr>\n    <tr>\n      <th>5</th>\n      <td>Бобылёв Ипполит Альбертович</td>\n      <td>Краснодар, В.Н. Мачуги, 41</td>\n      <td>Джун</td>\n      <td>[3]</td>\n    </tr>\n    <tr>\n      <th>6</th>\n      <td>Беляева Евгения Антоновна</td>\n      <td>Краснодар, Красных Партизан, 321</td>\n      <td>Мидл</td>\n      <td>[2, 3]</td>\n    </tr>\n    <tr>\n      <th>7</th>\n      <td>Николаев Азарий Платонович</td>\n      <td>Краснодар, Красных Партизан, 321</td>\n      <td>Джун</td>\n      <td>[3]</td>\n    </tr>\n  </tbody>\n</table>\n</div>"
     },
     "execution_count": 16,
     "metadata": {},
     "output_type": "execute_result"
    }
   ],
   "source": [
    "employees"
   ],
   "metadata": {
    "collapsed": false,
    "ExecuteTime": {
     "end_time": "2023-11-05T19:58:43.318652300Z",
     "start_time": "2023-11-05T19:58:43.281732800Z"
    }
   }
  },
  {
   "cell_type": "code",
   "execution_count": 18,
   "outputs": [],
   "source": [
    "employees_in_task = employees.copy()\n",
    "employees_in_task[\"Кол-во отработанных минут\"] = 0\n",
    "employees_in_task[\"Номера взятых задач\"] = employees_in_task[\"Кол-во отработанных минут\"].apply(lambda x: [])"
   ],
   "metadata": {
    "collapsed": false,
    "ExecuteTime": {
     "end_time": "2023-11-05T19:58:43.459424700Z",
     "start_time": "2023-11-05T19:58:43.346465700Z"
    }
   }
  },
  {
   "cell_type": "code",
   "execution_count": 19,
   "outputs": [],
   "source": [
    "points_tomorrow = {\n",
    "    '№ точки': [],\n",
    "    'Адрес точки, г. Краснодар': [],\n",
    "    'Когда подключена точка?': [],\n",
    "    'Карты и материалы доставлены?': [],\n",
    "    'Кол-во дней после выдачи последней карты': [],\n",
    "    'Кол-во одобренных заявок': [],\n",
    "    'Кол-во выданных карт': [],\n",
    "    '№ Задачи': []\n",
    "}\n",
    "\n",
    "points_tomorrow = pd.DataFrame(points_tomorrow)"
   ],
   "metadata": {
    "collapsed": false,
    "ExecuteTime": {
     "end_time": "2023-11-05T19:58:43.507998600Z",
     "start_time": "2023-11-05T19:58:43.361766200Z"
    }
   }
  },
  {
   "cell_type": "code",
   "execution_count": 21,
   "outputs": [
    {
     "data": {
      "text/plain": "                           ФИО                     Адрес локации   Грейд   \n0  Дерягин Никита Владимирович        Краснодар, Красная, д. 139  Синьор  \\\n1    Петрошев Валерий Павлович        Краснодар, Красная, д. 139    Мидл   \n2    Евдокимов Давид Тихонович        Краснодар, Красная, д. 139    Джун   \n3     Андреев Гордий Данилович        Краснодар, В.Н. Мачуги, 41  Синьор   \n4        Иванов Адам Федорович        Краснодар, В.Н. Мачуги, 41    Мидл   \n5  Бобылёв Ипполит Альбертович        Краснодар, В.Н. Мачуги, 41    Джун   \n6    Беляева Евгения Антоновна  Краснодар, Красных Партизан, 321    Мидл   \n7   Николаев Азарий Платонович  Краснодар, Красных Партизан, 321    Джун   \n\n  Решаемые задачи  Кол-во отработанных минут Номера взятых задач  \n0       [1, 2, 3]                          0                  []  \n1          [2, 3]                          0                  []  \n2             [3]                          0                  []  \n3       [1, 2, 3]                          0                  []  \n4          [2, 3]                          0                  []  \n5             [3]                          0                  []  \n6          [2, 3]                          0                  []  \n7             [3]                          0                  []  ",
      "text/html": "<div>\n<style scoped>\n    .dataframe tbody tr th:only-of-type {\n        vertical-align: middle;\n    }\n\n    .dataframe tbody tr th {\n        vertical-align: top;\n    }\n\n    .dataframe thead th {\n        text-align: right;\n    }\n</style>\n<table border=\"1\" class=\"dataframe\">\n  <thead>\n    <tr style=\"text-align: right;\">\n      <th></th>\n      <th>ФИО</th>\n      <th>Адрес локации</th>\n      <th>Грейд</th>\n      <th>Решаемые задачи</th>\n      <th>Кол-во отработанных минут</th>\n      <th>Номера взятых задач</th>\n    </tr>\n  </thead>\n  <tbody>\n    <tr>\n      <th>0</th>\n      <td>Дерягин Никита Владимирович</td>\n      <td>Краснодар, Красная, д. 139</td>\n      <td>Синьор</td>\n      <td>[1, 2, 3]</td>\n      <td>0</td>\n      <td>[]</td>\n    </tr>\n    <tr>\n      <th>1</th>\n      <td>Петрошев Валерий Павлович</td>\n      <td>Краснодар, Красная, д. 139</td>\n      <td>Мидл</td>\n      <td>[2, 3]</td>\n      <td>0</td>\n      <td>[]</td>\n    </tr>\n    <tr>\n      <th>2</th>\n      <td>Евдокимов Давид Тихонович</td>\n      <td>Краснодар, Красная, д. 139</td>\n      <td>Джун</td>\n      <td>[3]</td>\n      <td>0</td>\n      <td>[]</td>\n    </tr>\n    <tr>\n      <th>3</th>\n      <td>Андреев Гордий Данилович</td>\n      <td>Краснодар, В.Н. Мачуги, 41</td>\n      <td>Синьор</td>\n      <td>[1, 2, 3]</td>\n      <td>0</td>\n      <td>[]</td>\n    </tr>\n    <tr>\n      <th>4</th>\n      <td>Иванов Адам Федорович</td>\n      <td>Краснодар, В.Н. Мачуги, 41</td>\n      <td>Мидл</td>\n      <td>[2, 3]</td>\n      <td>0</td>\n      <td>[]</td>\n    </tr>\n    <tr>\n      <th>5</th>\n      <td>Бобылёв Ипполит Альбертович</td>\n      <td>Краснодар, В.Н. Мачуги, 41</td>\n      <td>Джун</td>\n      <td>[3]</td>\n      <td>0</td>\n      <td>[]</td>\n    </tr>\n    <tr>\n      <th>6</th>\n      <td>Беляева Евгения Антоновна</td>\n      <td>Краснодар, Красных Партизан, 321</td>\n      <td>Мидл</td>\n      <td>[2, 3]</td>\n      <td>0</td>\n      <td>[]</td>\n    </tr>\n    <tr>\n      <th>7</th>\n      <td>Николаев Азарий Платонович</td>\n      <td>Краснодар, Красных Партизан, 321</td>\n      <td>Джун</td>\n      <td>[3]</td>\n      <td>0</td>\n      <td>[]</td>\n    </tr>\n  </tbody>\n</table>\n</div>"
     },
     "execution_count": 21,
     "metadata": {},
     "output_type": "execute_result"
    }
   ],
   "source": [
    "employees_in_task"
   ],
   "metadata": {
    "collapsed": false,
    "ExecuteTime": {
     "end_time": "2023-11-05T19:58:43.685404800Z",
     "start_time": "2023-11-05T19:58:43.406694700Z"
    }
   }
  },
  {
   "cell_type": "code",
   "execution_count": 23,
   "outputs": [
    {
     "ename": "KeyError",
     "evalue": "'Кол-во отработанных часов'",
     "output_type": "error",
     "traceback": [
      "\u001B[1;31m---------------------------------------------------------------------------\u001B[0m",
      "\u001B[1;31mKeyError\u001B[0m                                  Traceback (most recent call last)",
      "File \u001B[1;32m~\\.conda\\envs\\pythonProject\\lib\\site-packages\\pandas\\core\\indexes\\base.py:3652\u001B[0m, in \u001B[0;36mIndex.get_loc\u001B[1;34m(self, key)\u001B[0m\n\u001B[0;32m   3651\u001B[0m \u001B[38;5;28;01mtry\u001B[39;00m:\n\u001B[1;32m-> 3652\u001B[0m     \u001B[38;5;28;01mreturn\u001B[39;00m \u001B[38;5;28;43mself\u001B[39;49m\u001B[38;5;241;43m.\u001B[39;49m\u001B[43m_engine\u001B[49m\u001B[38;5;241;43m.\u001B[39;49m\u001B[43mget_loc\u001B[49m\u001B[43m(\u001B[49m\u001B[43mcasted_key\u001B[49m\u001B[43m)\u001B[49m\n\u001B[0;32m   3653\u001B[0m \u001B[38;5;28;01mexcept\u001B[39;00m \u001B[38;5;167;01mKeyError\u001B[39;00m \u001B[38;5;28;01mas\u001B[39;00m err:\n",
      "File \u001B[1;32m~\\.conda\\envs\\pythonProject\\lib\\site-packages\\pandas\\_libs\\index.pyx:147\u001B[0m, in \u001B[0;36mpandas._libs.index.IndexEngine.get_loc\u001B[1;34m()\u001B[0m\n",
      "File \u001B[1;32m~\\.conda\\envs\\pythonProject\\lib\\site-packages\\pandas\\_libs\\index.pyx:176\u001B[0m, in \u001B[0;36mpandas._libs.index.IndexEngine.get_loc\u001B[1;34m()\u001B[0m\n",
      "File \u001B[1;32mpandas\\_libs\\hashtable_class_helper.pxi:7080\u001B[0m, in \u001B[0;36mpandas._libs.hashtable.PyObjectHashTable.get_item\u001B[1;34m()\u001B[0m\n",
      "File \u001B[1;32mpandas\\_libs\\hashtable_class_helper.pxi:7088\u001B[0m, in \u001B[0;36mpandas._libs.hashtable.PyObjectHashTable.get_item\u001B[1;34m()\u001B[0m\n",
      "\u001B[1;31mKeyError\u001B[0m: 'Кол-во отработанных часов'",
      "\nThe above exception was the direct cause of the following exception:\n",
      "\u001B[1;31mKeyError\u001B[0m                                  Traceback (most recent call last)",
      "Cell \u001B[1;32mIn[23], line 38\u001B[0m\n\u001B[0;32m     34\u001B[0m         suitable_employees \u001B[38;5;241m=\u001B[39m suitable_employees[suitable_employees[\u001B[38;5;124m\"\u001B[39m\u001B[38;5;124mГрейд\u001B[39m\u001B[38;5;124m\"\u001B[39m] \u001B[38;5;241m==\u001B[39m \u001B[38;5;124m\"\u001B[39m\u001B[38;5;124mСиньор\u001B[39m\u001B[38;5;124m\"\u001B[39m]\n\u001B[0;32m     36\u001B[0m \u001B[38;5;28;01mfor\u001B[39;00m e_index, employee \u001B[38;5;129;01min\u001B[39;00m suitable_employees\u001B[38;5;241m.\u001B[39miterrows():\n\u001B[1;32m---> 38\u001B[0m     \u001B[38;5;28;01mif\u001B[39;00m \u001B[43memployee\u001B[49m\u001B[43m[\u001B[49m\u001B[38;5;124;43m\"\u001B[39;49m\u001B[38;5;124;43mКол-во отработанных часов\u001B[39;49m\u001B[38;5;124;43m\"\u001B[39;49m\u001B[43m]\u001B[49m \u001B[38;5;241m+\u001B[39m task_time \u001B[38;5;241m>\u001B[39m\u001B[38;5;241m=\u001B[39m \u001B[38;5;241m640\u001B[39m:\n\u001B[0;32m     39\u001B[0m         \u001B[38;5;28;01mcontinue\u001B[39;00m\n\u001B[0;32m     41\u001B[0m     destination \u001B[38;5;241m=\u001B[39m employee[\u001B[38;5;124m\"\u001B[39m\u001B[38;5;124mАдрес локации\u001B[39m\u001B[38;5;124m\"\u001B[39m]\n",
      "File \u001B[1;32m~\\.conda\\envs\\pythonProject\\lib\\site-packages\\pandas\\core\\series.py:1007\u001B[0m, in \u001B[0;36mSeries.__getitem__\u001B[1;34m(self, key)\u001B[0m\n\u001B[0;32m   1004\u001B[0m     \u001B[38;5;28;01mreturn\u001B[39;00m \u001B[38;5;28mself\u001B[39m\u001B[38;5;241m.\u001B[39m_values[key]\n\u001B[0;32m   1006\u001B[0m \u001B[38;5;28;01melif\u001B[39;00m key_is_scalar:\n\u001B[1;32m-> 1007\u001B[0m     \u001B[38;5;28;01mreturn\u001B[39;00m \u001B[38;5;28;43mself\u001B[39;49m\u001B[38;5;241;43m.\u001B[39;49m\u001B[43m_get_value\u001B[49m\u001B[43m(\u001B[49m\u001B[43mkey\u001B[49m\u001B[43m)\u001B[49m\n\u001B[0;32m   1009\u001B[0m \u001B[38;5;28;01mif\u001B[39;00m is_hashable(key):\n\u001B[0;32m   1010\u001B[0m     \u001B[38;5;66;03m# Otherwise index.get_value will raise InvalidIndexError\u001B[39;00m\n\u001B[0;32m   1011\u001B[0m     \u001B[38;5;28;01mtry\u001B[39;00m:\n\u001B[0;32m   1012\u001B[0m         \u001B[38;5;66;03m# For labels that don't resolve as scalars like tuples and frozensets\u001B[39;00m\n",
      "File \u001B[1;32m~\\.conda\\envs\\pythonProject\\lib\\site-packages\\pandas\\core\\series.py:1116\u001B[0m, in \u001B[0;36mSeries._get_value\u001B[1;34m(self, label, takeable)\u001B[0m\n\u001B[0;32m   1113\u001B[0m     \u001B[38;5;28;01mreturn\u001B[39;00m \u001B[38;5;28mself\u001B[39m\u001B[38;5;241m.\u001B[39m_values[label]\n\u001B[0;32m   1115\u001B[0m \u001B[38;5;66;03m# Similar to Index.get_value, but we do not fall back to positional\u001B[39;00m\n\u001B[1;32m-> 1116\u001B[0m loc \u001B[38;5;241m=\u001B[39m \u001B[38;5;28;43mself\u001B[39;49m\u001B[38;5;241;43m.\u001B[39;49m\u001B[43mindex\u001B[49m\u001B[38;5;241;43m.\u001B[39;49m\u001B[43mget_loc\u001B[49m\u001B[43m(\u001B[49m\u001B[43mlabel\u001B[49m\u001B[43m)\u001B[49m\n\u001B[0;32m   1118\u001B[0m \u001B[38;5;28;01mif\u001B[39;00m is_integer(loc):\n\u001B[0;32m   1119\u001B[0m     \u001B[38;5;28;01mreturn\u001B[39;00m \u001B[38;5;28mself\u001B[39m\u001B[38;5;241m.\u001B[39m_values[loc]\n",
      "File \u001B[1;32m~\\.conda\\envs\\pythonProject\\lib\\site-packages\\pandas\\core\\indexes\\base.py:3654\u001B[0m, in \u001B[0;36mIndex.get_loc\u001B[1;34m(self, key)\u001B[0m\n\u001B[0;32m   3652\u001B[0m     \u001B[38;5;28;01mreturn\u001B[39;00m \u001B[38;5;28mself\u001B[39m\u001B[38;5;241m.\u001B[39m_engine\u001B[38;5;241m.\u001B[39mget_loc(casted_key)\n\u001B[0;32m   3653\u001B[0m \u001B[38;5;28;01mexcept\u001B[39;00m \u001B[38;5;167;01mKeyError\u001B[39;00m \u001B[38;5;28;01mas\u001B[39;00m err:\n\u001B[1;32m-> 3654\u001B[0m     \u001B[38;5;28;01mraise\u001B[39;00m \u001B[38;5;167;01mKeyError\u001B[39;00m(key) \u001B[38;5;28;01mfrom\u001B[39;00m \u001B[38;5;21;01merr\u001B[39;00m\n\u001B[0;32m   3655\u001B[0m \u001B[38;5;28;01mexcept\u001B[39;00m \u001B[38;5;167;01mTypeError\u001B[39;00m:\n\u001B[0;32m   3656\u001B[0m     \u001B[38;5;66;03m# If we have a listlike key, _check_indexing_error will raise\u001B[39;00m\n\u001B[0;32m   3657\u001B[0m     \u001B[38;5;66;03m#  InvalidIndexError. Otherwise we fall through and re-raise\u001B[39;00m\n\u001B[0;32m   3658\u001B[0m     \u001B[38;5;66;03m#  the TypeError.\u001B[39;00m\n\u001B[0;32m   3659\u001B[0m     \u001B[38;5;28mself\u001B[39m\u001B[38;5;241m.\u001B[39m_check_indexing_error(key)\n",
      "\u001B[1;31mKeyError\u001B[0m: 'Кол-во отработанных часов'"
     ]
    }
   ],
   "source": [
    "for index, point in points.iterrows():\n",
    "    task_number = point['№ Задачи']\n",
    "    if task_number == 0:\n",
    "        continue\n",
    "    elif task_number == 1:\n",
    "        task_time = 240\n",
    "    elif task_number == 2:\n",
    "        task_time = 120\n",
    "    elif task_number == 3:\n",
    "        task_time = 90\n",
    "    else:\n",
    "        continue\n",
    "\n",
    "    best_travel_time = 10000\n",
    "    best_employee_id = None\n",
    "    # task_accepted = False\n",
    "    origin = 'Краснодар, ' + point['Адрес точки, г. Краснодар']\n",
    "\n",
    "    suitable_employees = employees_in_task[employees_in_task['Решаемые задачи'].apply(lambda x: task_number in x)]\n",
    "    suitable_employees = suitable_employees.sort_values(by=['Грейд'])\n",
    "\n",
    "    if task_number == 3:\n",
    "        junior = suitable_employees[suitable_employees[\"Грейд\"] == \"Джун\"]\n",
    "        if junior[junior['Кол-во отработанных минут'] >= 640].sum() < len(junior):\n",
    "            suitable_employees = junior\n",
    "        else:\n",
    "            suitable_employees = suitable_employees[suitable_employees[\"Грейд\"] != \"Джун\"]\n",
    "\n",
    "    if task_number == 2:\n",
    "        middle = suitable_employees[suitable_employees[\"Грейд\"] == \"Мидл\"]\n",
    "        if middle[middle['Кол-во отработанных минут'] >= 640].sum() < len(middle):\n",
    "            suitable_employees = middle\n",
    "        else:\n",
    "            suitable_employees = suitable_employees[suitable_employees[\"Грейд\"] == \"Синьор\"]\n",
    "\n",
    "    for e_index, employee in suitable_employees.iterrows():\n",
    "\n",
    "        if employee[\"Кол-во отработанных часов\"] + task_time >= 640:\n",
    "            continue\n",
    "\n",
    "        destination = employee[\"Адрес локации\"]\n",
    "        travel_time = matrix([origin, destination])\n",
    "        if travel_time < best_travel_time:\n",
    "            best_travel_time = travel_time\n",
    "            best_employee_id = e_index\n",
    "\n",
    "    if best_employee_id is None:\n",
    "        points_tomorrow = pd.concat([points_tomorrow, pd.DataFrame([point])])\n",
    "\n",
    "    else:\n",
    "        employees_in_task.loc[best_employee_id, \"Кол-во отработанных минут\"] += best_travel_time + task_time\n",
    "        employees_in_task.loc[best_employee_id, \"Номера взятых задач\"].append(index)\n",
    "        employees_in_task.loc[best_employee_id, \"Адрес локации\"] = origin\n"
   ],
   "metadata": {
    "collapsed": false
   }
  },
  {
   "cell_type": "code",
   "execution_count": 27,
   "outputs": [],
   "source": [],
   "metadata": {
    "collapsed": false,
    "ExecuteTime": {
     "end_time": "2023-11-05T20:18:59.333287200Z",
     "start_time": "2023-11-05T20:18:59.297283200Z"
    }
   }
  },
  {
   "cell_type": "code",
   "execution_count": 28,
   "outputs": [
    {
     "data": {
      "text/plain": "   № точки         Адрес точки, г. Краснодар Когда подключена точка?   \n0      2.0  ул. им. Максима Горького, д. 128                   давно  \\\n1      2.0  ул. им. Максима Горького, д. 128                   давно   \n\n  Карты и материалы доставлены?  Кол-во дней после выдачи последней карты   \n0                            да                                       3.0  \\\n1                            да                                       3.0   \n\n   Кол-во одобренных заявок  Кол-во выданных карт  № Задачи  \n0                      15.0                   3.0       2.0  \n1                      15.0                   3.0       2.0  ",
      "text/html": "<div>\n<style scoped>\n    .dataframe tbody tr th:only-of-type {\n        vertical-align: middle;\n    }\n\n    .dataframe tbody tr th {\n        vertical-align: top;\n    }\n\n    .dataframe thead th {\n        text-align: right;\n    }\n</style>\n<table border=\"1\" class=\"dataframe\">\n  <thead>\n    <tr style=\"text-align: right;\">\n      <th></th>\n      <th>№ точки</th>\n      <th>Адрес точки, г. Краснодар</th>\n      <th>Когда подключена точка?</th>\n      <th>Карты и материалы доставлены?</th>\n      <th>Кол-во дней после выдачи последней карты</th>\n      <th>Кол-во одобренных заявок</th>\n      <th>Кол-во выданных карт</th>\n      <th>№ Задачи</th>\n    </tr>\n  </thead>\n  <tbody>\n    <tr>\n      <th>0</th>\n      <td>2.0</td>\n      <td>ул. им. Максима Горького, д. 128</td>\n      <td>давно</td>\n      <td>да</td>\n      <td>3.0</td>\n      <td>15.0</td>\n      <td>3.0</td>\n      <td>2.0</td>\n    </tr>\n    <tr>\n      <th>1</th>\n      <td>2.0</td>\n      <td>ул. им. Максима Горького, д. 128</td>\n      <td>давно</td>\n      <td>да</td>\n      <td>3.0</td>\n      <td>15.0</td>\n      <td>3.0</td>\n      <td>2.0</td>\n    </tr>\n  </tbody>\n</table>\n</div>"
     },
     "execution_count": 28,
     "metadata": {},
     "output_type": "execute_result"
    }
   ],
   "source": [
    "points_tomorrow"
   ],
   "metadata": {
    "collapsed": false,
    "ExecuteTime": {
     "end_time": "2023-11-05T20:18:59.945777600Z",
     "start_time": "2023-11-05T20:18:59.861752600Z"
    }
   }
  },
  {
   "cell_type": "code",
   "execution_count": 35,
   "outputs": [
    {
     "data": {
      "text/plain": "True"
     },
     "execution_count": 35,
     "metadata": {},
     "output_type": "execute_result"
    }
   ],
   "source": [
    "employees_in_task[employees_in_task['Кол-во отработанных минут'] >= 640][\"ФИО\"].sum() < 3"
   ],
   "metadata": {
    "collapsed": false,
    "ExecuteTime": {
     "end_time": "2023-11-05T20:28:26.538723900Z",
     "start_time": "2023-11-05T20:28:26.482557300Z"
    }
   }
  },
  {
   "cell_type": "code",
   "execution_count": 30,
   "outputs": [
    {
     "data": {
      "text/plain": "                           ФИО                     Адрес локации   Грейд   \n0  Дерягин Никита Владимирович        Краснодар, Красная, д. 139  Синьор  \\\n1    Петрошев Валерий Павлович        Краснодар, Красная, д. 139    Мидл   \n2    Евдокимов Давид Тихонович        Краснодар, Красная, д. 139    Джун   \n3     Андреев Гордий Данилович        Краснодар, В.Н. Мачуги, 41  Синьор   \n4        Иванов Адам Федорович        Краснодар, В.Н. Мачуги, 41    Мидл   \n5  Бобылёв Ипполит Альбертович        Краснодар, В.Н. Мачуги, 41    Джун   \n6    Беляева Евгения Антоновна  Краснодар, Красных Партизан, 321    Мидл   \n7   Николаев Азарий Платонович  Краснодар, Красных Партизан, 321    Джун   \n\n  Решаемые задачи  \n0       [1, 2, 3]  \n1          [2, 3]  \n2             [3]  \n3       [1, 2, 3]  \n4          [2, 3]  \n5             [3]  \n6          [2, 3]  \n7             [3]  ",
      "text/html": "<div>\n<style scoped>\n    .dataframe tbody tr th:only-of-type {\n        vertical-align: middle;\n    }\n\n    .dataframe tbody tr th {\n        vertical-align: top;\n    }\n\n    .dataframe thead th {\n        text-align: right;\n    }\n</style>\n<table border=\"1\" class=\"dataframe\">\n  <thead>\n    <tr style=\"text-align: right;\">\n      <th></th>\n      <th>ФИО</th>\n      <th>Адрес локации</th>\n      <th>Грейд</th>\n      <th>Решаемые задачи</th>\n    </tr>\n  </thead>\n  <tbody>\n    <tr>\n      <th>0</th>\n      <td>Дерягин Никита Владимирович</td>\n      <td>Краснодар, Красная, д. 139</td>\n      <td>Синьор</td>\n      <td>[1, 2, 3]</td>\n    </tr>\n    <tr>\n      <th>1</th>\n      <td>Петрошев Валерий Павлович</td>\n      <td>Краснодар, Красная, д. 139</td>\n      <td>Мидл</td>\n      <td>[2, 3]</td>\n    </tr>\n    <tr>\n      <th>2</th>\n      <td>Евдокимов Давид Тихонович</td>\n      <td>Краснодар, Красная, д. 139</td>\n      <td>Джун</td>\n      <td>[3]</td>\n    </tr>\n    <tr>\n      <th>3</th>\n      <td>Андреев Гордий Данилович</td>\n      <td>Краснодар, В.Н. Мачуги, 41</td>\n      <td>Синьор</td>\n      <td>[1, 2, 3]</td>\n    </tr>\n    <tr>\n      <th>4</th>\n      <td>Иванов Адам Федорович</td>\n      <td>Краснодар, В.Н. Мачуги, 41</td>\n      <td>Мидл</td>\n      <td>[2, 3]</td>\n    </tr>\n    <tr>\n      <th>5</th>\n      <td>Бобылёв Ипполит Альбертович</td>\n      <td>Краснодар, В.Н. Мачуги, 41</td>\n      <td>Джун</td>\n      <td>[3]</td>\n    </tr>\n    <tr>\n      <th>6</th>\n      <td>Беляева Евгения Антоновна</td>\n      <td>Краснодар, Красных Партизан, 321</td>\n      <td>Мидл</td>\n      <td>[2, 3]</td>\n    </tr>\n    <tr>\n      <th>7</th>\n      <td>Николаев Азарий Платонович</td>\n      <td>Краснодар, Красных Партизан, 321</td>\n      <td>Джун</td>\n      <td>[3]</td>\n    </tr>\n  </tbody>\n</table>\n</div>"
     },
     "execution_count": 30,
     "metadata": {},
     "output_type": "execute_result"
    }
   ],
   "source": [
    "employees"
   ],
   "metadata": {
    "collapsed": false,
    "ExecuteTime": {
     "end_time": "2023-11-05T20:27:32.236127300Z",
     "start_time": "2023-11-05T20:27:32.160072100Z"
    }
   }
  },
  {
   "cell_type": "code",
   "execution_count": 36,
   "outputs": [],
   "source": [
    "points_tomorrow = {\n",
    "    key: [] for key in points.columns\n",
    "}"
   ],
   "metadata": {
    "collapsed": false,
    "ExecuteTime": {
     "end_time": "2023-11-05T21:17:30.212440700Z",
     "start_time": "2023-11-05T21:17:30.196442400Z"
    }
   }
  },
  {
   "cell_type": "code",
   "execution_count": 37,
   "outputs": [],
   "source": [
    "points_tomorrow = pd.DataFrame(points_tomorrow)"
   ],
   "metadata": {
    "collapsed": false,
    "ExecuteTime": {
     "end_time": "2023-11-05T21:17:39.107518600Z",
     "start_time": "2023-11-05T21:17:39.031271600Z"
    }
   }
  },
  {
   "cell_type": "code",
   "execution_count": 38,
   "outputs": [
    {
     "data": {
      "text/plain": "Empty DataFrame\nColumns: [№ точки, Адрес точки, г. Краснодар, Когда подключена точка?, Карты и материалы доставлены?, Кол-во дней после выдачи последней карты, Кол-во одобренных заявок, Кол-во выданных карт, № Задачи]\nIndex: []",
      "text/html": "<div>\n<style scoped>\n    .dataframe tbody tr th:only-of-type {\n        vertical-align: middle;\n    }\n\n    .dataframe tbody tr th {\n        vertical-align: top;\n    }\n\n    .dataframe thead th {\n        text-align: right;\n    }\n</style>\n<table border=\"1\" class=\"dataframe\">\n  <thead>\n    <tr style=\"text-align: right;\">\n      <th></th>\n      <th>№ точки</th>\n      <th>Адрес точки, г. Краснодар</th>\n      <th>Когда подключена точка?</th>\n      <th>Карты и материалы доставлены?</th>\n      <th>Кол-во дней после выдачи последней карты</th>\n      <th>Кол-во одобренных заявок</th>\n      <th>Кол-во выданных карт</th>\n      <th>№ Задачи</th>\n    </tr>\n  </thead>\n  <tbody>\n  </tbody>\n</table>\n</div>"
     },
     "execution_count": 38,
     "metadata": {},
     "output_type": "execute_result"
    }
   ],
   "source": [
    "points_tomorrow"
   ],
   "metadata": {
    "collapsed": false,
    "ExecuteTime": {
     "end_time": "2023-11-05T21:17:42.428261Z",
     "start_time": "2023-11-05T21:17:42.380224400Z"
    }
   }
  },
  {
   "cell_type": "code",
   "execution_count": null,
   "outputs": [],
   "source": [],
   "metadata": {
    "collapsed": false
   }
  }
 ],
 "metadata": {
  "kernelspec": {
   "display_name": "Python 3",
   "language": "python",
   "name": "python3"
  },
  "language_info": {
   "codemirror_mode": {
    "name": "ipython",
    "version": 2
   },
   "file_extension": ".py",
   "mimetype": "text/x-python",
   "name": "python",
   "nbconvert_exporter": "python",
   "pygments_lexer": "ipython2",
   "version": "2.7.6"
  }
 },
 "nbformat": 4,
 "nbformat_minor": 0
}
